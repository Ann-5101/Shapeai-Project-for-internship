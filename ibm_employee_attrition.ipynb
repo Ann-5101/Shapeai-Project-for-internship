{
  "nbformat": 4,
  "nbformat_minor": 0,
  "metadata": {
    "colab": {
      "name": "ibm employee-attrition.ipynb",
      "provenance": []
    },
    "kernelspec": {
      "display_name": "Python 3",
      "language": "python",
      "name": "python3"
    },
    "language_info": {
      "codemirror_mode": {
        "name": "ipython",
        "version": 3
      },
      "file_extension": ".py",
      "mimetype": "text/x-python",
      "name": "python",
      "nbconvert_exporter": "python",
      "pygments_lexer": "ipython3",
      "version": "3.7.3"
    }
  },
  "cells": [
    {
      "cell_type": "code",
      "metadata": {
        "id": "bDUbsKddazWV"
      },
      "source": [
        "import numpy as np \n",
        "import pandas as pd \n",
        "import tensorflow as tf\n",
        "import matplotlib.pyplot as plt\n",
        "%matplotlib inline\n",
        "from patsy import dmatrices\n",
        "import sklearn\n",
        "import seaborn as sns"
      ],
      "execution_count": 42,
      "outputs": []
    },
    {
      "cell_type": "code",
      "metadata": {
        "colab": {
          "base_uri": "https://localhost:8080/",
          "height": 309
        },
        "id": "DP_U4kmXb7cm",
        "outputId": "dad7af2e-3460-4f13-bdd6-24b3387ce5d3"
      },
      "source": [
        "ibm_df= pd.read_csv(\"WA_Fn-UseC_-HR-Employee-Attrition.csv\")\n",
        "ibm_df.head()"
      ],
      "execution_count": 43,
      "outputs": [
        {
          "output_type": "execute_result",
          "data": {
            "text/html": [
              "<div>\n",
              "<style scoped>\n",
              "    .dataframe tbody tr th:only-of-type {\n",
              "        vertical-align: middle;\n",
              "    }\n",
              "\n",
              "    .dataframe tbody tr th {\n",
              "        vertical-align: top;\n",
              "    }\n",
              "\n",
              "    .dataframe thead th {\n",
              "        text-align: right;\n",
              "    }\n",
              "</style>\n",
              "<table border=\"1\" class=\"dataframe\">\n",
              "  <thead>\n",
              "    <tr style=\"text-align: right;\">\n",
              "      <th></th>\n",
              "      <th>Age</th>\n",
              "      <th>Attrition</th>\n",
              "      <th>BusinessTravel</th>\n",
              "      <th>DailyRate</th>\n",
              "      <th>Department</th>\n",
              "      <th>DistanceFromHome</th>\n",
              "      <th>Education</th>\n",
              "      <th>EducationField</th>\n",
              "      <th>EmployeeCount</th>\n",
              "      <th>EmployeeNumber</th>\n",
              "      <th>EnvironmentSatisfaction</th>\n",
              "      <th>Gender</th>\n",
              "      <th>HourlyRate</th>\n",
              "      <th>JobInvolvement</th>\n",
              "      <th>JobLevel</th>\n",
              "      <th>JobRole</th>\n",
              "      <th>JobSatisfaction</th>\n",
              "      <th>MaritalStatus</th>\n",
              "      <th>MonthlyIncome</th>\n",
              "      <th>MonthlyRate</th>\n",
              "      <th>NumCompaniesWorked</th>\n",
              "      <th>Over18</th>\n",
              "      <th>OverTime</th>\n",
              "      <th>PercentSalaryHike</th>\n",
              "      <th>PerformanceRating</th>\n",
              "      <th>RelationshipSatisfaction</th>\n",
              "      <th>StandardHours</th>\n",
              "      <th>StockOptionLevel</th>\n",
              "      <th>TotalWorkingYears</th>\n",
              "      <th>TrainingTimesLastYear</th>\n",
              "      <th>WorkLifeBalance</th>\n",
              "      <th>YearsAtCompany</th>\n",
              "      <th>YearsInCurrentRole</th>\n",
              "      <th>YearsSinceLastPromotion</th>\n",
              "      <th>YearsWithCurrManager</th>\n",
              "    </tr>\n",
              "  </thead>\n",
              "  <tbody>\n",
              "    <tr>\n",
              "      <th>0</th>\n",
              "      <td>41</td>\n",
              "      <td>Yes</td>\n",
              "      <td>Travel_Rarely</td>\n",
              "      <td>1102</td>\n",
              "      <td>Sales</td>\n",
              "      <td>1</td>\n",
              "      <td>2</td>\n",
              "      <td>Life Sciences</td>\n",
              "      <td>1</td>\n",
              "      <td>1</td>\n",
              "      <td>2</td>\n",
              "      <td>Female</td>\n",
              "      <td>94</td>\n",
              "      <td>3</td>\n",
              "      <td>2</td>\n",
              "      <td>Sales Executive</td>\n",
              "      <td>4</td>\n",
              "      <td>Single</td>\n",
              "      <td>5993</td>\n",
              "      <td>19479</td>\n",
              "      <td>8</td>\n",
              "      <td>Y</td>\n",
              "      <td>Yes</td>\n",
              "      <td>11</td>\n",
              "      <td>3</td>\n",
              "      <td>1</td>\n",
              "      <td>80</td>\n",
              "      <td>0</td>\n",
              "      <td>8</td>\n",
              "      <td>0</td>\n",
              "      <td>1</td>\n",
              "      <td>6</td>\n",
              "      <td>4</td>\n",
              "      <td>0</td>\n",
              "      <td>5</td>\n",
              "    </tr>\n",
              "    <tr>\n",
              "      <th>1</th>\n",
              "      <td>49</td>\n",
              "      <td>No</td>\n",
              "      <td>Travel_Frequently</td>\n",
              "      <td>279</td>\n",
              "      <td>Research &amp; Development</td>\n",
              "      <td>8</td>\n",
              "      <td>1</td>\n",
              "      <td>Life Sciences</td>\n",
              "      <td>1</td>\n",
              "      <td>2</td>\n",
              "      <td>3</td>\n",
              "      <td>Male</td>\n",
              "      <td>61</td>\n",
              "      <td>2</td>\n",
              "      <td>2</td>\n",
              "      <td>Research Scientist</td>\n",
              "      <td>2</td>\n",
              "      <td>Married</td>\n",
              "      <td>5130</td>\n",
              "      <td>24907</td>\n",
              "      <td>1</td>\n",
              "      <td>Y</td>\n",
              "      <td>No</td>\n",
              "      <td>23</td>\n",
              "      <td>4</td>\n",
              "      <td>4</td>\n",
              "      <td>80</td>\n",
              "      <td>1</td>\n",
              "      <td>10</td>\n",
              "      <td>3</td>\n",
              "      <td>3</td>\n",
              "      <td>10</td>\n",
              "      <td>7</td>\n",
              "      <td>1</td>\n",
              "      <td>7</td>\n",
              "    </tr>\n",
              "    <tr>\n",
              "      <th>2</th>\n",
              "      <td>37</td>\n",
              "      <td>Yes</td>\n",
              "      <td>Travel_Rarely</td>\n",
              "      <td>1373</td>\n",
              "      <td>Research &amp; Development</td>\n",
              "      <td>2</td>\n",
              "      <td>2</td>\n",
              "      <td>Other</td>\n",
              "      <td>1</td>\n",
              "      <td>4</td>\n",
              "      <td>4</td>\n",
              "      <td>Male</td>\n",
              "      <td>92</td>\n",
              "      <td>2</td>\n",
              "      <td>1</td>\n",
              "      <td>Laboratory Technician</td>\n",
              "      <td>3</td>\n",
              "      <td>Single</td>\n",
              "      <td>2090</td>\n",
              "      <td>2396</td>\n",
              "      <td>6</td>\n",
              "      <td>Y</td>\n",
              "      <td>Yes</td>\n",
              "      <td>15</td>\n",
              "      <td>3</td>\n",
              "      <td>2</td>\n",
              "      <td>80</td>\n",
              "      <td>0</td>\n",
              "      <td>7</td>\n",
              "      <td>3</td>\n",
              "      <td>3</td>\n",
              "      <td>0</td>\n",
              "      <td>0</td>\n",
              "      <td>0</td>\n",
              "      <td>0</td>\n",
              "    </tr>\n",
              "    <tr>\n",
              "      <th>3</th>\n",
              "      <td>33</td>\n",
              "      <td>No</td>\n",
              "      <td>Travel_Frequently</td>\n",
              "      <td>1392</td>\n",
              "      <td>Research &amp; Development</td>\n",
              "      <td>3</td>\n",
              "      <td>4</td>\n",
              "      <td>Life Sciences</td>\n",
              "      <td>1</td>\n",
              "      <td>5</td>\n",
              "      <td>4</td>\n",
              "      <td>Female</td>\n",
              "      <td>56</td>\n",
              "      <td>3</td>\n",
              "      <td>1</td>\n",
              "      <td>Research Scientist</td>\n",
              "      <td>3</td>\n",
              "      <td>Married</td>\n",
              "      <td>2909</td>\n",
              "      <td>23159</td>\n",
              "      <td>1</td>\n",
              "      <td>Y</td>\n",
              "      <td>Yes</td>\n",
              "      <td>11</td>\n",
              "      <td>3</td>\n",
              "      <td>3</td>\n",
              "      <td>80</td>\n",
              "      <td>0</td>\n",
              "      <td>8</td>\n",
              "      <td>3</td>\n",
              "      <td>3</td>\n",
              "      <td>8</td>\n",
              "      <td>7</td>\n",
              "      <td>3</td>\n",
              "      <td>0</td>\n",
              "    </tr>\n",
              "    <tr>\n",
              "      <th>4</th>\n",
              "      <td>27</td>\n",
              "      <td>No</td>\n",
              "      <td>Travel_Rarely</td>\n",
              "      <td>591</td>\n",
              "      <td>Research &amp; Development</td>\n",
              "      <td>2</td>\n",
              "      <td>1</td>\n",
              "      <td>Medical</td>\n",
              "      <td>1</td>\n",
              "      <td>7</td>\n",
              "      <td>1</td>\n",
              "      <td>Male</td>\n",
              "      <td>40</td>\n",
              "      <td>3</td>\n",
              "      <td>1</td>\n",
              "      <td>Laboratory Technician</td>\n",
              "      <td>2</td>\n",
              "      <td>Married</td>\n",
              "      <td>3468</td>\n",
              "      <td>16632</td>\n",
              "      <td>9</td>\n",
              "      <td>Y</td>\n",
              "      <td>No</td>\n",
              "      <td>12</td>\n",
              "      <td>3</td>\n",
              "      <td>4</td>\n",
              "      <td>80</td>\n",
              "      <td>1</td>\n",
              "      <td>6</td>\n",
              "      <td>3</td>\n",
              "      <td>3</td>\n",
              "      <td>2</td>\n",
              "      <td>2</td>\n",
              "      <td>2</td>\n",
              "      <td>2</td>\n",
              "    </tr>\n",
              "  </tbody>\n",
              "</table>\n",
              "</div>"
            ],
            "text/plain": [
              "   Age Attrition  ... YearsSinceLastPromotion  YearsWithCurrManager\n",
              "0   41       Yes  ...                       0                     5\n",
              "1   49        No  ...                       1                     7\n",
              "2   37       Yes  ...                       0                     0\n",
              "3   33        No  ...                       3                     0\n",
              "4   27        No  ...                       2                     2\n",
              "\n",
              "[5 rows x 35 columns]"
            ]
          },
          "metadata": {
            "tags": []
          },
          "execution_count": 43
        }
      ]
    },
    {
      "cell_type": "code",
      "metadata": {
        "colab": {
          "base_uri": "https://localhost:8080/"
        },
        "id": "j-mB_sTSazWc",
        "outputId": "559af7c4-0b9c-4d83-81ab-f0b98f60b85e"
      },
      "source": [
        "names = ibm_df.columns.values \n",
        "print(names)"
      ],
      "execution_count": 44,
      "outputs": [
        {
          "output_type": "stream",
          "text": [
            "['Age' 'Attrition' 'BusinessTravel' 'DailyRate' 'Department'\n",
            " 'DistanceFromHome' 'Education' 'EducationField' 'EmployeeCount'\n",
            " 'EmployeeNumber' 'EnvironmentSatisfaction' 'Gender' 'HourlyRate'\n",
            " 'JobInvolvement' 'JobLevel' 'JobRole' 'JobSatisfaction' 'MaritalStatus'\n",
            " 'MonthlyIncome' 'MonthlyRate' 'NumCompaniesWorked' 'Over18' 'OverTime'\n",
            " 'PercentSalaryHike' 'PerformanceRating' 'RelationshipSatisfaction'\n",
            " 'StandardHours' 'StockOptionLevel' 'TotalWorkingYears'\n",
            " 'TrainingTimesLastYear' 'WorkLifeBalance' 'YearsAtCompany'\n",
            " 'YearsInCurrentRole' 'YearsSinceLastPromotion' 'YearsWithCurrManager']\n"
          ],
          "name": "stdout"
        }
      ]
    },
    {
      "cell_type": "code",
      "metadata": {
        "colab": {
          "base_uri": "https://localhost:8080/",
          "height": 513
        },
        "id": "i-dt75nvazWe",
        "outputId": "3dada943-cf0b-4f36-87f2-46d8ce6f7657"
      },
      "source": [
        "# histogram for age\n",
        "plt.figure(figsize=(10,8))\n",
        "ibm_df['Age'].hist(bins=100)\n",
        "plt.title(\"Age distribution of Employees\")\n",
        "plt.xlabel(\"Age\")\n",
        "plt.ylabel(\"# of Employees\")\n",
        "plt.show()"
      ],
      "execution_count": 45,
      "outputs": [
        {
          "output_type": "display_data",
          "data": {
            "image/png": "[encoded data removed]",
            "text/plain": [
              "<Figure size 720x576 with 1 Axes>"
            ]
          },
          "metadata": {
            "tags": [],
            "needs_background": "light"
          }
        }
      ]
    },
    {
      "cell_type": "code",
      "metadata": {
        "colab": {
          "base_uri": "https://localhost:8080/",
          "height": 607
        },
        "id": "qfG-TU1AazWg",
        "outputId": "b568d7d6-c167-4e99-e72c-133917ee600c"
      },
      "source": [
        "# explore data for Attrition by Age\n",
        "plt.figure(figsize=(14,10))\n",
        "plt.scatter(ibm_df.Attrition,ibm_df.Age, alpha=.55)\n",
        "plt.title(\"Attrition by Age \")\n",
        "plt.ylabel(\"Age\")\n",
        "plt.grid(b=True, which='major',axis='y')\n",
        "plt.show()"
      ],
      "execution_count": 46,
      "outputs": [
        {
          "output_type": "display_data",
          "data": {
            "image/png": "[encoded data removed]",
            "text/plain": [
              "<Figure size 1008x720 with 1 Axes>"
            ]
          },
          "metadata": {
            "tags": [],
            "needs_background": "light"
          }
        }
      ]
    },
    {
      "cell_type": "code",
      "metadata": {
        "id": "0_Ui1GAgbhb8"
      },
      "source": [
        ""
      ],
      "execution_count": 46,
      "outputs": []
    },
    {
      "cell_type": "code",
      "metadata": {
        "colab": {
          "base_uri": "https://localhost:8080/"
        },
        "id": "ObtYxbvZazWh",
        "outputId": "99cad41b-5f61-4b0d-fee8-b423daac30a9"
      },
      "source": [
        "# explore data for Left employees breakdown\n",
        "\n",
        "ibm_df.Attrition.value_counts()"
      ],
      "execution_count": 47,
      "outputs": [
        {
          "output_type": "execute_result",
          "data": {
            "text/plain": [
              "No     1233\n",
              "Yes     237\n",
              "Name: Attrition, dtype: int64"
            ]
          },
          "metadata": {
            "tags": []
          },
          "execution_count": 47
        }
      ]
    },
    {
      "cell_type": "code",
      "metadata": {
        "colab": {
          "base_uri": "https://localhost:8080/",
          "height": 499
        },
        "id": "dzFVclvIazWj",
        "outputId": "dbd01738-b32c-4858-8963-1ccd91dc1bad"
      },
      "source": [
        "# explore data for Education Field distribution\n",
        "plt.figure(figsize=(10,8))\n",
        "ibm_df.EducationField.value_counts().plot(kind='barh',color='g',alpha=.65)\n",
        "plt.title(\"Education Field Distribution\")\n",
        "plt.show()"
      ],
      "execution_count": 48,
      "outputs": [
        {
          "output_type": "display_data",
          "data": {
            "image/png": "[encoded data removed]",
            "text/plain": [
              "<Figure size 720x576 with 1 Axes>"
            ]
          },
          "metadata": {
            "tags": [],
            "needs_background": "light"
          }
        }
      ]
    },
    {
      "cell_type": "code",
      "metadata": {
        "colab": {
          "base_uri": "https://localhost:8080/",
          "height": 409
        },
        "id": "gpdqcJseazWl",
        "outputId": "3ef3adb4-b37e-420a-c527-b6bda017c86a"
      },
      "source": [
        "# explore data for Marital Status\n",
        "plt.figure(figsize=(8,6))\n",
        "ibm_df.MaritalStatus.value_counts().plot(kind='bar',alpha=.5)\n",
        "plt.show()"
      ],
      "execution_count": 49,
      "outputs": [
        {
          "output_type": "display_data",
          "data": {
            "image/png": "[encoded data removed]",
            "text/plain": [
              "<Figure size 576x432 with 1 Axes>"
            ]
          },
          "metadata": {
            "tags": [],
            "needs_background": "light"
          }
        }
      ]
    },
    {
      "cell_type": "code",
      "metadata": {
        "colab": {
          "base_uri": "https://localhost:8080/",
          "height": 317
        },
        "id": "TWkdJKkHazWm",
        "outputId": "39c54ebf-ce1e-42f8-8dd4-e1d43e1d620d"
      },
      "source": [
        "ibm_df.describe()"
      ],
      "execution_count": 50,
      "outputs": [
        {
          "output_type": "execute_result",
          "data": {
            "text/html": [
              "<div>\n",
              "<style scoped>\n",
              "    .dataframe tbody tr th:only-of-type {\n",
              "        vertical-align: middle;\n",
              "    }\n",
              "\n",
              "    .dataframe tbody tr th {\n",
              "        vertical-align: top;\n",
              "    }\n",
              "\n",
              "    .dataframe thead th {\n",
              "        text-align: right;\n",
              "    }\n",
              "</style>\n",
              "<table border=\"1\" class=\"dataframe\">\n",
              "  <thead>\n",
              "    <tr style=\"text-align: right;\">\n",
              "      <th></th>\n",
              "      <th>Age</th>\n",
              "      <th>DailyRate</th>\n",
              "      <th>DistanceFromHome</th>\n",
              "      <th>Education</th>\n",
              "      <th>EmployeeCount</th>\n",
              "      <th>EmployeeNumber</th>\n",
              "      <th>EnvironmentSatisfaction</th>\n",
              "      <th>HourlyRate</th>\n",
              "      <th>JobInvolvement</th>\n",
              "      <th>JobLevel</th>\n",
              "      <th>JobSatisfaction</th>\n",
              "      <th>MonthlyIncome</th>\n",
              "      <th>MonthlyRate</th>\n",
              "      <th>NumCompaniesWorked</th>\n",
              "      <th>PercentSalaryHike</th>\n",
              "      <th>PerformanceRating</th>\n",
              "      <th>RelationshipSatisfaction</th>\n",
              "      <th>StandardHours</th>\n",
              "      <th>StockOptionLevel</th>\n",
              "      <th>TotalWorkingYears</th>\n",
              "      <th>TrainingTimesLastYear</th>\n",
              "      <th>WorkLifeBalance</th>\n",
              "      <th>YearsAtCompany</th>\n",
              "      <th>YearsInCurrentRole</th>\n",
              "      <th>YearsSinceLastPromotion</th>\n",
              "      <th>YearsWithCurrManager</th>\n",
              "    </tr>\n",
              "  </thead>\n",
              "  <tbody>\n",
              "    <tr>\n",
              "      <th>count</th>\n",
              "      <td>1470.000000</td>\n",
              "      <td>1470.000000</td>\n",
              "      <td>1470.000000</td>\n",
              "      <td>1470.000000</td>\n",
              "      <td>1470.0</td>\n",
              "      <td>1470.000000</td>\n",
              "      <td>1470.000000</td>\n",
              "      <td>1470.000000</td>\n",
              "      <td>1470.000000</td>\n",
              "      <td>1470.000000</td>\n",
              "      <td>1470.000000</td>\n",
              "      <td>1470.000000</td>\n",
              "      <td>1470.000000</td>\n",
              "      <td>1470.000000</td>\n",
              "      <td>1470.000000</td>\n",
              "      <td>1470.000000</td>\n",
              "      <td>1470.000000</td>\n",
              "      <td>1470.0</td>\n",
              "      <td>1470.000000</td>\n",
              "      <td>1470.000000</td>\n",
              "      <td>1470.000000</td>\n",
              "      <td>1470.000000</td>\n",
              "      <td>1470.000000</td>\n",
              "      <td>1470.000000</td>\n",
              "      <td>1470.000000</td>\n",
              "      <td>1470.000000</td>\n",
              "    </tr>\n",
              "    <tr>\n",
              "      <th>mean</th>\n",
              "      <td>36.923810</td>\n",
              "      <td>802.485714</td>\n",
              "      <td>9.192517</td>\n",
              "      <td>2.912925</td>\n",
              "      <td>1.0</td>\n",
              "      <td>1024.865306</td>\n",
              "      <td>2.721769</td>\n",
              "      <td>65.891156</td>\n",
              "      <td>2.729932</td>\n",
              "      <td>2.063946</td>\n",
              "      <td>2.728571</td>\n",
              "      <td>6502.931293</td>\n",
              "      <td>14313.103401</td>\n",
              "      <td>2.693197</td>\n",
              "      <td>15.209524</td>\n",
              "      <td>3.153741</td>\n",
              "      <td>2.712245</td>\n",
              "      <td>80.0</td>\n",
              "      <td>0.793878</td>\n",
              "      <td>11.279592</td>\n",
              "      <td>2.799320</td>\n",
              "      <td>2.761224</td>\n",
              "      <td>7.008163</td>\n",
              "      <td>4.229252</td>\n",
              "      <td>2.187755</td>\n",
              "      <td>4.123129</td>\n",
              "    </tr>\n",
              "    <tr>\n",
              "      <th>std</th>\n",
              "      <td>9.135373</td>\n",
              "      <td>403.509100</td>\n",
              "      <td>8.106864</td>\n",
              "      <td>1.024165</td>\n",
              "      <td>0.0</td>\n",
              "      <td>602.024335</td>\n",
              "      <td>1.093082</td>\n",
              "      <td>20.329428</td>\n",
              "      <td>0.711561</td>\n",
              "      <td>1.106940</td>\n",
              "      <td>1.102846</td>\n",
              "      <td>4707.956783</td>\n",
              "      <td>7117.786044</td>\n",
              "      <td>2.498009</td>\n",
              "      <td>3.659938</td>\n",
              "      <td>0.360824</td>\n",
              "      <td>1.081209</td>\n",
              "      <td>0.0</td>\n",
              "      <td>0.852077</td>\n",
              "      <td>7.780782</td>\n",
              "      <td>1.289271</td>\n",
              "      <td>0.706476</td>\n",
              "      <td>6.126525</td>\n",
              "      <td>3.623137</td>\n",
              "      <td>3.222430</td>\n",
              "      <td>3.568136</td>\n",
              "    </tr>\n",
              "    <tr>\n",
              "      <th>min</th>\n",
              "      <td>18.000000</td>\n",
              "      <td>102.000000</td>\n",
              "      <td>1.000000</td>\n",
              "      <td>1.000000</td>\n",
              "      <td>1.0</td>\n",
              "      <td>1.000000</td>\n",
              "      <td>1.000000</td>\n",
              "      <td>30.000000</td>\n",
              "      <td>1.000000</td>\n",
              "      <td>1.000000</td>\n",
              "      <td>1.000000</td>\n",
              "      <td>1009.000000</td>\n",
              "      <td>2094.000000</td>\n",
              "      <td>0.000000</td>\n",
              "      <td>11.000000</td>\n",
              "      <td>3.000000</td>\n",
              "      <td>1.000000</td>\n",
              "      <td>80.0</td>\n",
              "      <td>0.000000</td>\n",
              "      <td>0.000000</td>\n",
              "      <td>0.000000</td>\n",
              "      <td>1.000000</td>\n",
              "      <td>0.000000</td>\n",
              "      <td>0.000000</td>\n",
              "      <td>0.000000</td>\n",
              "      <td>0.000000</td>\n",
              "    </tr>\n",
              "    <tr>\n",
              "      <th>25%</th>\n",
              "      <td>30.000000</td>\n",
              "      <td>465.000000</td>\n",
              "      <td>2.000000</td>\n",
              "      <td>2.000000</td>\n",
              "      <td>1.0</td>\n",
              "      <td>491.250000</td>\n",
              "      <td>2.000000</td>\n",
              "      <td>48.000000</td>\n",
              "      <td>2.000000</td>\n",
              "      <td>1.000000</td>\n",
              "      <td>2.000000</td>\n",
              "      <td>2911.000000</td>\n",
              "      <td>8047.000000</td>\n",
              "      <td>1.000000</td>\n",
              "      <td>12.000000</td>\n",
              "      <td>3.000000</td>\n",
              "      <td>2.000000</td>\n",
              "      <td>80.0</td>\n",
              "      <td>0.000000</td>\n",
              "      <td>6.000000</td>\n",
              "      <td>2.000000</td>\n",
              "      <td>2.000000</td>\n",
              "      <td>3.000000</td>\n",
              "      <td>2.000000</td>\n",
              "      <td>0.000000</td>\n",
              "      <td>2.000000</td>\n",
              "    </tr>\n",
              "    <tr>\n",
              "      <th>50%</th>\n",
              "      <td>36.000000</td>\n",
              "      <td>802.000000</td>\n",
              "      <td>7.000000</td>\n",
              "      <td>3.000000</td>\n",
              "      <td>1.0</td>\n",
              "      <td>1020.500000</td>\n",
              "      <td>3.000000</td>\n",
              "      <td>66.000000</td>\n",
              "      <td>3.000000</td>\n",
              "      <td>2.000000</td>\n",
              "      <td>3.000000</td>\n",
              "      <td>4919.000000</td>\n",
              "      <td>14235.500000</td>\n",
              "      <td>2.000000</td>\n",
              "      <td>14.000000</td>\n",
              "      <td>3.000000</td>\n",
              "      <td>3.000000</td>\n",
              "      <td>80.0</td>\n",
              "      <td>1.000000</td>\n",
              "      <td>10.000000</td>\n",
              "      <td>3.000000</td>\n",
              "      <td>3.000000</td>\n",
              "      <td>5.000000</td>\n",
              "      <td>3.000000</td>\n",
              "      <td>1.000000</td>\n",
              "      <td>3.000000</td>\n",
              "    </tr>\n",
              "    <tr>\n",
              "      <th>75%</th>\n",
              "      <td>43.000000</td>\n",
              "      <td>1157.000000</td>\n",
              "      <td>14.000000</td>\n",
              "      <td>4.000000</td>\n",
              "      <td>1.0</td>\n",
              "      <td>1555.750000</td>\n",
              "      <td>4.000000</td>\n",
              "      <td>83.750000</td>\n",
              "      <td>3.000000</td>\n",
              "      <td>3.000000</td>\n",
              "      <td>4.000000</td>\n",
              "      <td>8379.000000</td>\n",
              "      <td>20461.500000</td>\n",
              "      <td>4.000000</td>\n",
              "      <td>18.000000</td>\n",
              "      <td>3.000000</td>\n",
              "      <td>4.000000</td>\n",
              "      <td>80.0</td>\n",
              "      <td>1.000000</td>\n",
              "      <td>15.000000</td>\n",
              "      <td>3.000000</td>\n",
              "      <td>3.000000</td>\n",
              "      <td>9.000000</td>\n",
              "      <td>7.000000</td>\n",
              "      <td>3.000000</td>\n",
              "      <td>7.000000</td>\n",
              "    </tr>\n",
              "    <tr>\n",
              "      <th>max</th>\n",
              "      <td>60.000000</td>\n",
              "      <td>1499.000000</td>\n",
              "      <td>29.000000</td>\n",
              "      <td>5.000000</td>\n",
              "      <td>1.0</td>\n",
              "      <td>2068.000000</td>\n",
              "      <td>4.000000</td>\n",
              "      <td>100.000000</td>\n",
              "      <td>4.000000</td>\n",
              "      <td>5.000000</td>\n",
              "      <td>4.000000</td>\n",
              "      <td>19999.000000</td>\n",
              "      <td>26999.000000</td>\n",
              "      <td>9.000000</td>\n",
              "      <td>25.000000</td>\n",
              "      <td>4.000000</td>\n",
              "      <td>4.000000</td>\n",
              "      <td>80.0</td>\n",
              "      <td>3.000000</td>\n",
              "      <td>40.000000</td>\n",
              "      <td>6.000000</td>\n",
              "      <td>4.000000</td>\n",
              "      <td>40.000000</td>\n",
              "      <td>18.000000</td>\n",
              "      <td>15.000000</td>\n",
              "      <td>17.000000</td>\n",
              "    </tr>\n",
              "  </tbody>\n",
              "</table>\n",
              "</div>"
            ],
            "text/plain": [
              "               Age    DailyRate  ...  YearsSinceLastPromotion  YearsWithCurrManager\n",
              "count  1470.000000  1470.000000  ...              1470.000000           1470.000000\n",
              "mean     36.923810   802.485714  ...                 2.187755              4.123129\n",
              "std       9.135373   403.509100  ...                 3.222430              3.568136\n",
              "min      18.000000   102.000000  ...                 0.000000              0.000000\n",
              "25%      30.000000   465.000000  ...                 0.000000              2.000000\n",
              "50%      36.000000   802.000000  ...                 1.000000              3.000000\n",
              "75%      43.000000  1157.000000  ...                 3.000000              7.000000\n",
              "max      60.000000  1499.000000  ...                15.000000             17.000000\n",
              "\n",
              "[8 rows x 26 columns]"
            ]
          },
          "metadata": {
            "tags": []
          },
          "execution_count": 50
        }
      ]
    },
    {
      "cell_type": "code",
      "metadata": {
        "colab": {
          "base_uri": "https://localhost:8080/"
        },
        "id": "LRUflieuazWn",
        "outputId": "7f69f6a7-4d3c-419a-c418-844ebde36455"
      },
      "source": [
        "ibm_df.info()"
      ],
      "execution_count": 51,
      "outputs": [
        {
          "output_type": "stream",
          "text": [
            "<class 'pandas.core.frame.DataFrame'>\n",
            "RangeIndex: 1470 entries, 0 to 1469\n",
            "Data columns (total 35 columns):\n",
            " #   Column                    Non-Null Count  Dtype \n",
            "---  ------                    --------------  ----- \n",
            " 0   Age                       1470 non-null   int64 \n",
            " 1   Attrition                 1470 non-null   object\n",
            " 2   BusinessTravel            1470 non-null   object\n",
            " 3   DailyRate                 1470 non-null   int64 \n",
            " 4   Department                1470 non-null   object\n",
            " 5   DistanceFromHome          1470 non-null   int64 \n",
            " 6   Education                 1470 non-null   int64 \n",
            " 7   EducationField            1470 non-null   object\n",
            " 8   EmployeeCount             1470 non-null   int64 \n",
            " 9   EmployeeNumber            1470 non-null   int64 \n",
            " 10  EnvironmentSatisfaction   1470 non-null   int64 \n",
            " 11  Gender                    1470 non-null   object\n",
            " 12  HourlyRate                1470 non-null   int64 \n",
            " 13  JobInvolvement            1470 non-null   int64 \n",
            " 14  JobLevel                  1470 non-null   int64 \n",
            " 15  JobRole                   1470 non-null   object\n",
            " 16  JobSatisfaction           1470 non-null   int64 \n",
            " 17  MaritalStatus             1470 non-null   object\n",
            " 18  MonthlyIncome             1470 non-null   int64 \n",
            " 19  MonthlyRate               1470 non-null   int64 \n",
            " 20  NumCompaniesWorked        1470 non-null   int64 \n",
            " 21  Over18                    1470 non-null   object\n",
            " 22  OverTime                  1470 non-null   object\n",
            " 23  PercentSalaryHike         1470 non-null   int64 \n",
            " 24  PerformanceRating         1470 non-null   int64 \n",
            " 25  RelationshipSatisfaction  1470 non-null   int64 \n",
            " 26  StandardHours             1470 non-null   int64 \n",
            " 27  StockOptionLevel          1470 non-null   int64 \n",
            " 28  TotalWorkingYears         1470 non-null   int64 \n",
            " 29  TrainingTimesLastYear     1470 non-null   int64 \n",
            " 30  WorkLifeBalance           1470 non-null   int64 \n",
            " 31  YearsAtCompany            1470 non-null   int64 \n",
            " 32  YearsInCurrentRole        1470 non-null   int64 \n",
            " 33  YearsSinceLastPromotion   1470 non-null   int64 \n",
            " 34  YearsWithCurrManager      1470 non-null   int64 \n",
            "dtypes: int64(26), object(9)\n",
            "memory usage: 402.1+ KB\n"
          ],
          "name": "stdout"
        }
      ]
    },
    {
      "cell_type": "code",
      "metadata": {
        "colab": {
          "base_uri": "https://localhost:8080/"
        },
        "id": "7lx5oaFwazWo",
        "outputId": "9fcc17ec-9bcc-4a32-aa2d-bb19cee48a5c"
      },
      "source": [
        "ibm_df.columns"
      ],
      "execution_count": 52,
      "outputs": [
        {
          "output_type": "execute_result",
          "data": {
            "text/plain": [
              "Index(['Age', 'Attrition', 'BusinessTravel', 'DailyRate', 'Department',\n",
              "       'DistanceFromHome', 'Education', 'EducationField', 'EmployeeCount',\n",
              "       'EmployeeNumber', 'EnvironmentSatisfaction', 'Gender', 'HourlyRate',\n",
              "       'JobInvolvement', 'JobLevel', 'JobRole', 'JobSatisfaction',\n",
              "       'MaritalStatus', 'MonthlyIncome', 'MonthlyRate', 'NumCompaniesWorked',\n",
              "       'Over18', 'OverTime', 'PercentSalaryHike', 'PerformanceRating',\n",
              "       'RelationshipSatisfaction', 'StandardHours', 'StockOptionLevel',\n",
              "       'TotalWorkingYears', 'TrainingTimesLastYear', 'WorkLifeBalance',\n",
              "       'YearsAtCompany', 'YearsInCurrentRole', 'YearsSinceLastPromotion',\n",
              "       'YearsWithCurrManager'],\n",
              "      dtype='object')"
            ]
          },
          "metadata": {
            "tags": []
          },
          "execution_count": 52
        }
      ]
    },
    {
      "cell_type": "code",
      "metadata": {
        "colab": {
          "base_uri": "https://localhost:8080/"
        },
        "id": "oytlaY1VazWp",
        "outputId": "3315ffe9-33b1-4e74-ba0c-e477aff4c479"
      },
      "source": [
        "ibm_df.std()"
      ],
      "execution_count": 53,
      "outputs": [
        {
          "output_type": "execute_result",
          "data": {
            "text/plain": [
              "Age                            9.135373\n",
              "DailyRate                    403.509100\n",
              "DistanceFromHome               8.106864\n",
              "Education                      1.024165\n",
              "EmployeeCount                  0.000000\n",
              "EmployeeNumber               602.024335\n",
              "EnvironmentSatisfaction        1.093082\n",
              "HourlyRate                    20.329428\n",
              "JobInvolvement                 0.711561\n",
              "JobLevel                       1.106940\n",
              "JobSatisfaction                1.102846\n",
              "MonthlyIncome               4707.956783\n",
              "MonthlyRate                 7117.786044\n",
              "NumCompaniesWorked             2.498009\n",
              "PercentSalaryHike              3.659938\n",
              "PerformanceRating              0.360824\n",
              "RelationshipSatisfaction       1.081209\n",
              "StandardHours                  0.000000\n",
              "StockOptionLevel               0.852077\n",
              "TotalWorkingYears              7.780782\n",
              "TrainingTimesLastYear          1.289271\n",
              "WorkLifeBalance                0.706476\n",
              "YearsAtCompany                 6.126525\n",
              "YearsInCurrentRole             3.623137\n",
              "YearsSinceLastPromotion        3.222430\n",
              "YearsWithCurrManager           3.568136\n",
              "dtype: float64"
            ]
          },
          "metadata": {
            "tags": []
          },
          "execution_count": 53
        }
      ]
    },
    {
      "cell_type": "code",
      "metadata": {
        "colab": {
          "base_uri": "https://localhost:8080/"
        },
        "id": "P3dhPtD-azWq",
        "outputId": "784da9e4-9ffb-419b-f27d-7a41ba3c62bf"
      },
      "source": [
        "ibm_df['Attrition'].value_counts()"
      ],
      "execution_count": 54,
      "outputs": [
        {
          "output_type": "execute_result",
          "data": {
            "text/plain": [
              "No     1233\n",
              "Yes     237\n",
              "Name: Attrition, dtype: int64"
            ]
          },
          "metadata": {
            "tags": []
          },
          "execution_count": 54
        }
      ]
    },
    {
      "cell_type": "code",
      "metadata": {
        "colab": {
          "base_uri": "https://localhost:8080/"
        },
        "id": "4TlRxwV9azWr",
        "outputId": "01d43ec8-7b04-4001-a155-99b5f9abdc14"
      },
      "source": [
        "ibm_df['Attrition'].dtypes"
      ],
      "execution_count": 55,
      "outputs": [
        {
          "output_type": "execute_result",
          "data": {
            "text/plain": [
              "dtype('O')"
            ]
          },
          "metadata": {
            "tags": []
          },
          "execution_count": 55
        }
      ]
    },
    {
      "cell_type": "code",
      "metadata": {
        "id": "lK7EIwblazWr"
      },
      "source": [
        "ibm_df['Attrition'].replace('Yes',1, inplace=True)\n",
        "ibm_df['Attrition'].replace('No',0, inplace=True)"
      ],
      "execution_count": 56,
      "outputs": []
    },
    {
      "cell_type": "code",
      "metadata": {
        "colab": {
          "base_uri": "https://localhost:8080/",
          "height": 549
        },
        "id": "NztFDXbaazWs",
        "outputId": "52f7149b-67b1-4c49-c539-c3b0560ff00c"
      },
      "source": [
        "ibm_df.head(10)"
      ],
      "execution_count": 57,
      "outputs": [
        {
          "output_type": "execute_result",
          "data": {
            "text/html": [
              "<div>\n",
              "<style scoped>\n",
              "    .dataframe tbody tr th:only-of-type {\n",
              "        vertical-align: middle;\n",
              "    }\n",
              "\n",
              "    .dataframe tbody tr th {\n",
              "        vertical-align: top;\n",
              "    }\n",
              "\n",
              "    .dataframe thead th {\n",
              "        text-align: right;\n",
              "    }\n",
              "</style>\n",
              "<table border=\"1\" class=\"dataframe\">\n",
              "  <thead>\n",
              "    <tr style=\"text-align: right;\">\n",
              "      <th></th>\n",
              "      <th>Age</th>\n",
              "      <th>Attrition</th>\n",
              "      <th>BusinessTravel</th>\n",
              "      <th>DailyRate</th>\n",
              "      <th>Department</th>\n",
              "      <th>DistanceFromHome</th>\n",
              "      <th>Education</th>\n",
              "      <th>EducationField</th>\n",
              "      <th>EmployeeCount</th>\n",
              "      <th>EmployeeNumber</th>\n",
              "      <th>EnvironmentSatisfaction</th>\n",
              "      <th>Gender</th>\n",
              "      <th>HourlyRate</th>\n",
              "      <th>JobInvolvement</th>\n",
              "      <th>JobLevel</th>\n",
              "      <th>JobRole</th>\n",
              "      <th>JobSatisfaction</th>\n",
              "      <th>MaritalStatus</th>\n",
              "      <th>MonthlyIncome</th>\n",
              "      <th>MonthlyRate</th>\n",
              "      <th>NumCompaniesWorked</th>\n",
              "      <th>Over18</th>\n",
              "      <th>OverTime</th>\n",
              "      <th>PercentSalaryHike</th>\n",
              "      <th>PerformanceRating</th>\n",
              "      <th>RelationshipSatisfaction</th>\n",
              "      <th>StandardHours</th>\n",
              "      <th>StockOptionLevel</th>\n",
              "      <th>TotalWorkingYears</th>\n",
              "      <th>TrainingTimesLastYear</th>\n",
              "      <th>WorkLifeBalance</th>\n",
              "      <th>YearsAtCompany</th>\n",
              "      <th>YearsInCurrentRole</th>\n",
              "      <th>YearsSinceLastPromotion</th>\n",
              "      <th>YearsWithCurrManager</th>\n",
              "    </tr>\n",
              "  </thead>\n",
              "  <tbody>\n",
              "    <tr>\n",
              "      <th>0</th>\n",
              "      <td>41</td>\n",
              "      <td>1</td>\n",
              "      <td>Travel_Rarely</td>\n",
              "      <td>1102</td>\n",
              "      <td>Sales</td>\n",
              "      <td>1</td>\n",
              "      <td>2</td>\n",
              "      <td>Life Sciences</td>\n",
              "      <td>1</td>\n",
              "      <td>1</td>\n",
              "      <td>2</td>\n",
              "      <td>Female</td>\n",
              "      <td>94</td>\n",
              "      <td>3</td>\n",
              "      <td>2</td>\n",
              "      <td>Sales Executive</td>\n",
              "      <td>4</td>\n",
              "      <td>Single</td>\n",
              "      <td>5993</td>\n",
              "      <td>19479</td>\n",
              "      <td>8</td>\n",
              "      <td>Y</td>\n",
              "      <td>Yes</td>\n",
              "      <td>11</td>\n",
              "      <td>3</td>\n",
              "      <td>1</td>\n",
              "      <td>80</td>\n",
              "      <td>0</td>\n",
              "      <td>8</td>\n",
              "      <td>0</td>\n",
              "      <td>1</td>\n",
              "      <td>6</td>\n",
              "      <td>4</td>\n",
              "      <td>0</td>\n",
              "      <td>5</td>\n",
              "    </tr>\n",
              "    <tr>\n",
              "      <th>1</th>\n",
              "      <td>49</td>\n",
              "      <td>0</td>\n",
              "      <td>Travel_Frequently</td>\n",
              "      <td>279</td>\n",
              "      <td>Research &amp; Development</td>\n",
              "      <td>8</td>\n",
              "      <td>1</td>\n",
              "      <td>Life Sciences</td>\n",
              "      <td>1</td>\n",
              "      <td>2</td>\n",
              "      <td>3</td>\n",
              "      <td>Male</td>\n",
              "      <td>61</td>\n",
              "      <td>2</td>\n",
              "      <td>2</td>\n",
              "      <td>Research Scientist</td>\n",
              "      <td>2</td>\n",
              "      <td>Married</td>\n",
              "      <td>5130</td>\n",
              "      <td>24907</td>\n",
              "      <td>1</td>\n",
              "      <td>Y</td>\n",
              "      <td>No</td>\n",
              "      <td>23</td>\n",
              "      <td>4</td>\n",
              "      <td>4</td>\n",
              "      <td>80</td>\n",
              "      <td>1</td>\n",
              "      <td>10</td>\n",
              "      <td>3</td>\n",
              "      <td>3</td>\n",
              "      <td>10</td>\n",
              "      <td>7</td>\n",
              "      <td>1</td>\n",
              "      <td>7</td>\n",
              "    </tr>\n",
              "    <tr>\n",
              "      <th>2</th>\n",
              "      <td>37</td>\n",
              "      <td>1</td>\n",
              "      <td>Travel_Rarely</td>\n",
              "      <td>1373</td>\n",
              "      <td>Research &amp; Development</td>\n",
              "      <td>2</td>\n",
              "      <td>2</td>\n",
              "      <td>Other</td>\n",
              "      <td>1</td>\n",
              "      <td>4</td>\n",
              "      <td>4</td>\n",
              "      <td>Male</td>\n",
              "      <td>92</td>\n",
              "      <td>2</td>\n",
              "      <td>1</td>\n",
              "      <td>Laboratory Technician</td>\n",
              "      <td>3</td>\n",
              "      <td>Single</td>\n",
              "      <td>2090</td>\n",
              "      <td>2396</td>\n",
              "      <td>6</td>\n",
              "      <td>Y</td>\n",
              "      <td>Yes</td>\n",
              "      <td>15</td>\n",
              "      <td>3</td>\n",
              "      <td>2</td>\n",
              "      <td>80</td>\n",
              "      <td>0</td>\n",
              "      <td>7</td>\n",
              "      <td>3</td>\n",
              "      <td>3</td>\n",
              "      <td>0</td>\n",
              "      <td>0</td>\n",
              "      <td>0</td>\n",
              "      <td>0</td>\n",
              "    </tr>\n",
              "    <tr>\n",
              "      <th>3</th>\n",
              "      <td>33</td>\n",
              "      <td>0</td>\n",
              "      <td>Travel_Frequently</td>\n",
              "      <td>1392</td>\n",
              "      <td>Research &amp; Development</td>\n",
              "      <td>3</td>\n",
              "      <td>4</td>\n",
              "      <td>Life Sciences</td>\n",
              "      <td>1</td>\n",
              "      <td>5</td>\n",
              "      <td>4</td>\n",
              "      <td>Female</td>\n",
              "      <td>56</td>\n",
              "      <td>3</td>\n",
              "      <td>1</td>\n",
              "      <td>Research Scientist</td>\n",
              "      <td>3</td>\n",
              "      <td>Married</td>\n",
              "      <td>2909</td>\n",
              "      <td>23159</td>\n",
              "      <td>1</td>\n",
              "      <td>Y</td>\n",
              "      <td>Yes</td>\n",
              "      <td>11</td>\n",
              "      <td>3</td>\n",
              "      <td>3</td>\n",
              "      <td>80</td>\n",
              "      <td>0</td>\n",
              "      <td>8</td>\n",
              "      <td>3</td>\n",
              "      <td>3</td>\n",
              "      <td>8</td>\n",
              "      <td>7</td>\n",
              "      <td>3</td>\n",
              "      <td>0</td>\n",
              "    </tr>\n",
              "    <tr>\n",
              "      <th>4</th>\n",
              "      <td>27</td>\n",
              "      <td>0</td>\n",
              "      <td>Travel_Rarely</td>\n",
              "      <td>591</td>\n",
              "      <td>Research &amp; Development</td>\n",
              "      <td>2</td>\n",
              "      <td>1</td>\n",
              "      <td>Medical</td>\n",
              "      <td>1</td>\n",
              "      <td>7</td>\n",
              "      <td>1</td>\n",
              "      <td>Male</td>\n",
              "      <td>40</td>\n",
              "      <td>3</td>\n",
              "      <td>1</td>\n",
              "      <td>Laboratory Technician</td>\n",
              "      <td>2</td>\n",
              "      <td>Married</td>\n",
              "      <td>3468</td>\n",
              "      <td>16632</td>\n",
              "      <td>9</td>\n",
              "      <td>Y</td>\n",
              "      <td>No</td>\n",
              "      <td>12</td>\n",
              "      <td>3</td>\n",
              "      <td>4</td>\n",
              "      <td>80</td>\n",
              "      <td>1</td>\n",
              "      <td>6</td>\n",
              "      <td>3</td>\n",
              "      <td>3</td>\n",
              "      <td>2</td>\n",
              "      <td>2</td>\n",
              "      <td>2</td>\n",
              "      <td>2</td>\n",
              "    </tr>\n",
              "    <tr>\n",
              "      <th>5</th>\n",
              "      <td>32</td>\n",
              "      <td>0</td>\n",
              "      <td>Travel_Frequently</td>\n",
              "      <td>1005</td>\n",
              "      <td>Research &amp; Development</td>\n",
              "      <td>2</td>\n",
              "      <td>2</td>\n",
              "      <td>Life Sciences</td>\n",
              "      <td>1</td>\n",
              "      <td>8</td>\n",
              "      <td>4</td>\n",
              "      <td>Male</td>\n",
              "      <td>79</td>\n",
              "      <td>3</td>\n",
              "      <td>1</td>\n",
              "      <td>Laboratory Technician</td>\n",
              "      <td>4</td>\n",
              "      <td>Single</td>\n",
              "      <td>3068</td>\n",
              "      <td>11864</td>\n",
              "      <td>0</td>\n",
              "      <td>Y</td>\n",
              "      <td>No</td>\n",
              "      <td>13</td>\n",
              "      <td>3</td>\n",
              "      <td>3</td>\n",
              "      <td>80</td>\n",
              "      <td>0</td>\n",
              "      <td>8</td>\n",
              "      <td>2</td>\n",
              "      <td>2</td>\n",
              "      <td>7</td>\n",
              "      <td>7</td>\n",
              "      <td>3</td>\n",
              "      <td>6</td>\n",
              "    </tr>\n",
              "    <tr>\n",
              "      <th>6</th>\n",
              "      <td>59</td>\n",
              "      <td>0</td>\n",
              "      <td>Travel_Rarely</td>\n",
              "      <td>1324</td>\n",
              "      <td>Research &amp; Development</td>\n",
              "      <td>3</td>\n",
              "      <td>3</td>\n",
              "      <td>Medical</td>\n",
              "      <td>1</td>\n",
              "      <td>10</td>\n",
              "      <td>3</td>\n",
              "      <td>Female</td>\n",
              "      <td>81</td>\n",
              "      <td>4</td>\n",
              "      <td>1</td>\n",
              "      <td>Laboratory Technician</td>\n",
              "      <td>1</td>\n",
              "      <td>Married</td>\n",
              "      <td>2670</td>\n",
              "      <td>9964</td>\n",
              "      <td>4</td>\n",
              "      <td>Y</td>\n",
              "      <td>Yes</td>\n",
              "      <td>20</td>\n",
              "      <td>4</td>\n",
              "      <td>1</td>\n",
              "      <td>80</td>\n",
              "      <td>3</td>\n",
              "      <td>12</td>\n",
              "      <td>3</td>\n",
              "      <td>2</td>\n",
              "      <td>1</td>\n",
              "      <td>0</td>\n",
              "      <td>0</td>\n",
              "      <td>0</td>\n",
              "    </tr>\n",
              "    <tr>\n",
              "      <th>7</th>\n",
              "      <td>30</td>\n",
              "      <td>0</td>\n",
              "      <td>Travel_Rarely</td>\n",
              "      <td>1358</td>\n",
              "      <td>Research &amp; Development</td>\n",
              "      <td>24</td>\n",
              "      <td>1</td>\n",
              "      <td>Life Sciences</td>\n",
              "      <td>1</td>\n",
              "      <td>11</td>\n",
              "      <td>4</td>\n",
              "      <td>Male</td>\n",
              "      <td>67</td>\n",
              "      <td>3</td>\n",
              "      <td>1</td>\n",
              "      <td>Laboratory Technician</td>\n",
              "      <td>3</td>\n",
              "      <td>Divorced</td>\n",
              "      <td>2693</td>\n",
              "      <td>13335</td>\n",
              "      <td>1</td>\n",
              "      <td>Y</td>\n",
              "      <td>No</td>\n",
              "      <td>22</td>\n",
              "      <td>4</td>\n",
              "      <td>2</td>\n",
              "      <td>80</td>\n",
              "      <td>1</td>\n",
              "      <td>1</td>\n",
              "      <td>2</td>\n",
              "      <td>3</td>\n",
              "      <td>1</td>\n",
              "      <td>0</td>\n",
              "      <td>0</td>\n",
              "      <td>0</td>\n",
              "    </tr>\n",
              "    <tr>\n",
              "      <th>8</th>\n",
              "      <td>38</td>\n",
              "      <td>0</td>\n",
              "      <td>Travel_Frequently</td>\n",
              "      <td>216</td>\n",
              "      <td>Research &amp; Development</td>\n",
              "      <td>23</td>\n",
              "      <td>3</td>\n",
              "      <td>Life Sciences</td>\n",
              "      <td>1</td>\n",
              "      <td>12</td>\n",
              "      <td>4</td>\n",
              "      <td>Male</td>\n",
              "      <td>44</td>\n",
              "      <td>2</td>\n",
              "      <td>3</td>\n",
              "      <td>Manufacturing Director</td>\n",
              "      <td>3</td>\n",
              "      <td>Single</td>\n",
              "      <td>9526</td>\n",
              "      <td>8787</td>\n",
              "      <td>0</td>\n",
              "      <td>Y</td>\n",
              "      <td>No</td>\n",
              "      <td>21</td>\n",
              "      <td>4</td>\n",
              "      <td>2</td>\n",
              "      <td>80</td>\n",
              "      <td>0</td>\n",
              "      <td>10</td>\n",
              "      <td>2</td>\n",
              "      <td>3</td>\n",
              "      <td>9</td>\n",
              "      <td>7</td>\n",
              "      <td>1</td>\n",
              "      <td>8</td>\n",
              "    </tr>\n",
              "    <tr>\n",
              "      <th>9</th>\n",
              "      <td>36</td>\n",
              "      <td>0</td>\n",
              "      <td>Travel_Rarely</td>\n",
              "      <td>1299</td>\n",
              "      <td>Research &amp; Development</td>\n",
              "      <td>27</td>\n",
              "      <td>3</td>\n",
              "      <td>Medical</td>\n",
              "      <td>1</td>\n",
              "      <td>13</td>\n",
              "      <td>3</td>\n",
              "      <td>Male</td>\n",
              "      <td>94</td>\n",
              "      <td>3</td>\n",
              "      <td>2</td>\n",
              "      <td>Healthcare Representative</td>\n",
              "      <td>3</td>\n",
              "      <td>Married</td>\n",
              "      <td>5237</td>\n",
              "      <td>16577</td>\n",
              "      <td>6</td>\n",
              "      <td>Y</td>\n",
              "      <td>No</td>\n",
              "      <td>13</td>\n",
              "      <td>3</td>\n",
              "      <td>2</td>\n",
              "      <td>80</td>\n",
              "      <td>2</td>\n",
              "      <td>17</td>\n",
              "      <td>3</td>\n",
              "      <td>2</td>\n",
              "      <td>7</td>\n",
              "      <td>7</td>\n",
              "      <td>7</td>\n",
              "      <td>7</td>\n",
              "    </tr>\n",
              "  </tbody>\n",
              "</table>\n",
              "</div>"
            ],
            "text/plain": [
              "   Age  Attrition  ... YearsSinceLastPromotion  YearsWithCurrManager\n",
              "0   41          1  ...                       0                     5\n",
              "1   49          0  ...                       1                     7\n",
              "2   37          1  ...                       0                     0\n",
              "3   33          0  ...                       3                     0\n",
              "4   27          0  ...                       2                     2\n",
              "5   32          0  ...                       3                     6\n",
              "6   59          0  ...                       0                     0\n",
              "7   30          0  ...                       0                     0\n",
              "8   38          0  ...                       1                     8\n",
              "9   36          0  ...                       7                     7\n",
              "\n",
              "[10 rows x 35 columns]"
            ]
          },
          "metadata": {
            "tags": []
          },
          "execution_count": 57
        }
      ]
    },
    {
      "cell_type": "code",
      "metadata": {
        "colab": {
          "base_uri": "https://localhost:8080/"
        },
        "id": "DzUFcAJGazWt",
        "outputId": "9a471977-9dae-4d7e-93d0-125bc6ba38c0"
      },
      "source": [
        "# building up a logistic regression model\n",
        "X = ibm_df.drop(['Attrition'],axis=1)\n",
        "X.head()\n",
        "Y = ibm_df['Attrition']\n",
        "Y.head(10)"
      ],
      "execution_count": 58,
      "outputs": [
        {
          "output_type": "execute_result",
          "data": {
            "text/plain": [
              "0    1\n",
              "1    0\n",
              "2    1\n",
              "3    0\n",
              "4    0\n",
              "5    0\n",
              "6    0\n",
              "7    0\n",
              "8    0\n",
              "9    0\n",
              "Name: Attrition, dtype: int64"
            ]
          },
          "metadata": {
            "tags": []
          },
          "execution_count": 58
        }
      ]
    },
    {
      "cell_type": "code",
      "metadata": {
        "id": "8UP2ksSYazWu"
      },
      "source": [
        "ibm_df['EducationField'].replace('Life Sciences',1, inplace=True)\n",
        "ibm_df['EducationField'].replace('Medical',2, inplace=True)\n",
        "ibm_df['EducationField'].replace('Marketing', 3, inplace=True)\n",
        "ibm_df['EducationField'].replace('Other',4, inplace=True)\n",
        "ibm_df['EducationField'].replace('Technical Degree',5, inplace=True)\n",
        "ibm_df['EducationField'].replace('Human Resources', 6, inplace=True)"
      ],
      "execution_count": 59,
      "outputs": []
    },
    {
      "cell_type": "code",
      "metadata": {
        "colab": {
          "base_uri": "https://localhost:8080/"
        },
        "id": "jDjUruY1azWv",
        "outputId": "4487b962-af31-4b45-85f5-4570220e9b74"
      },
      "source": [
        "ibm_df['EducationField'].value_counts()"
      ],
      "execution_count": 60,
      "outputs": [
        {
          "output_type": "execute_result",
          "data": {
            "text/plain": [
              "1    606\n",
              "2    464\n",
              "3    159\n",
              "5    132\n",
              "4     82\n",
              "6     27\n",
              "Name: EducationField, dtype: int64"
            ]
          },
          "metadata": {
            "tags": []
          },
          "execution_count": 60
        }
      ]
    },
    {
      "cell_type": "code",
      "metadata": {
        "colab": {
          "base_uri": "https://localhost:8080/",
          "height": 309
        },
        "id": "q_3_Pk7Mf8Lu",
        "outputId": "1b3b8511-8704-4675-c08e-97450e70df0f"
      },
      "source": [
        "ibm_df.head()"
      ],
      "execution_count": 61,
      "outputs": [
        {
          "output_type": "execute_result",
          "data": {
            "text/html": [
              "<div>\n",
              "<style scoped>\n",
              "    .dataframe tbody tr th:only-of-type {\n",
              "        vertical-align: middle;\n",
              "    }\n",
              "\n",
              "    .dataframe tbody tr th {\n",
              "        vertical-align: top;\n",
              "    }\n",
              "\n",
              "    .dataframe thead th {\n",
              "        text-align: right;\n",
              "    }\n",
              "</style>\n",
              "<table border=\"1\" class=\"dataframe\">\n",
              "  <thead>\n",
              "    <tr style=\"text-align: right;\">\n",
              "      <th></th>\n",
              "      <th>Age</th>\n",
              "      <th>Attrition</th>\n",
              "      <th>BusinessTravel</th>\n",
              "      <th>DailyRate</th>\n",
              "      <th>Department</th>\n",
              "      <th>DistanceFromHome</th>\n",
              "      <th>Education</th>\n",
              "      <th>EducationField</th>\n",
              "      <th>EmployeeCount</th>\n",
              "      <th>EmployeeNumber</th>\n",
              "      <th>EnvironmentSatisfaction</th>\n",
              "      <th>Gender</th>\n",
              "      <th>HourlyRate</th>\n",
              "      <th>JobInvolvement</th>\n",
              "      <th>JobLevel</th>\n",
              "      <th>JobRole</th>\n",
              "      <th>JobSatisfaction</th>\n",
              "      <th>MaritalStatus</th>\n",
              "      <th>MonthlyIncome</th>\n",
              "      <th>MonthlyRate</th>\n",
              "      <th>NumCompaniesWorked</th>\n",
              "      <th>Over18</th>\n",
              "      <th>OverTime</th>\n",
              "      <th>PercentSalaryHike</th>\n",
              "      <th>PerformanceRating</th>\n",
              "      <th>RelationshipSatisfaction</th>\n",
              "      <th>StandardHours</th>\n",
              "      <th>StockOptionLevel</th>\n",
              "      <th>TotalWorkingYears</th>\n",
              "      <th>TrainingTimesLastYear</th>\n",
              "      <th>WorkLifeBalance</th>\n",
              "      <th>YearsAtCompany</th>\n",
              "      <th>YearsInCurrentRole</th>\n",
              "      <th>YearsSinceLastPromotion</th>\n",
              "      <th>YearsWithCurrManager</th>\n",
              "    </tr>\n",
              "  </thead>\n",
              "  <tbody>\n",
              "    <tr>\n",
              "      <th>0</th>\n",
              "      <td>41</td>\n",
              "      <td>1</td>\n",
              "      <td>Travel_Rarely</td>\n",
              "      <td>1102</td>\n",
              "      <td>Sales</td>\n",
              "      <td>1</td>\n",
              "      <td>2</td>\n",
              "      <td>1</td>\n",
              "      <td>1</td>\n",
              "      <td>1</td>\n",
              "      <td>2</td>\n",
              "      <td>Female</td>\n",
              "      <td>94</td>\n",
              "      <td>3</td>\n",
              "      <td>2</td>\n",
              "      <td>Sales Executive</td>\n",
              "      <td>4</td>\n",
              "      <td>Single</td>\n",
              "      <td>5993</td>\n",
              "      <td>19479</td>\n",
              "      <td>8</td>\n",
              "      <td>Y</td>\n",
              "      <td>Yes</td>\n",
              "      <td>11</td>\n",
              "      <td>3</td>\n",
              "      <td>1</td>\n",
              "      <td>80</td>\n",
              "      <td>0</td>\n",
              "      <td>8</td>\n",
              "      <td>0</td>\n",
              "      <td>1</td>\n",
              "      <td>6</td>\n",
              "      <td>4</td>\n",
              "      <td>0</td>\n",
              "      <td>5</td>\n",
              "    </tr>\n",
              "    <tr>\n",
              "      <th>1</th>\n",
              "      <td>49</td>\n",
              "      <td>0</td>\n",
              "      <td>Travel_Frequently</td>\n",
              "      <td>279</td>\n",
              "      <td>Research &amp; Development</td>\n",
              "      <td>8</td>\n",
              "      <td>1</td>\n",
              "      <td>1</td>\n",
              "      <td>1</td>\n",
              "      <td>2</td>\n",
              "      <td>3</td>\n",
              "      <td>Male</td>\n",
              "      <td>61</td>\n",
              "      <td>2</td>\n",
              "      <td>2</td>\n",
              "      <td>Research Scientist</td>\n",
              "      <td>2</td>\n",
              "      <td>Married</td>\n",
              "      <td>5130</td>\n",
              "      <td>24907</td>\n",
              "      <td>1</td>\n",
              "      <td>Y</td>\n",
              "      <td>No</td>\n",
              "      <td>23</td>\n",
              "      <td>4</td>\n",
              "      <td>4</td>\n",
              "      <td>80</td>\n",
              "      <td>1</td>\n",
              "      <td>10</td>\n",
              "      <td>3</td>\n",
              "      <td>3</td>\n",
              "      <td>10</td>\n",
              "      <td>7</td>\n",
              "      <td>1</td>\n",
              "      <td>7</td>\n",
              "    </tr>\n",
              "    <tr>\n",
              "      <th>2</th>\n",
              "      <td>37</td>\n",
              "      <td>1</td>\n",
              "      <td>Travel_Rarely</td>\n",
              "      <td>1373</td>\n",
              "      <td>Research &amp; Development</td>\n",
              "      <td>2</td>\n",
              "      <td>2</td>\n",
              "      <td>4</td>\n",
              "      <td>1</td>\n",
              "      <td>4</td>\n",
              "      <td>4</td>\n",
              "      <td>Male</td>\n",
              "      <td>92</td>\n",
              "      <td>2</td>\n",
              "      <td>1</td>\n",
              "      <td>Laboratory Technician</td>\n",
              "      <td>3</td>\n",
              "      <td>Single</td>\n",
              "      <td>2090</td>\n",
              "      <td>2396</td>\n",
              "      <td>6</td>\n",
              "      <td>Y</td>\n",
              "      <td>Yes</td>\n",
              "      <td>15</td>\n",
              "      <td>3</td>\n",
              "      <td>2</td>\n",
              "      <td>80</td>\n",
              "      <td>0</td>\n",
              "      <td>7</td>\n",
              "      <td>3</td>\n",
              "      <td>3</td>\n",
              "      <td>0</td>\n",
              "      <td>0</td>\n",
              "      <td>0</td>\n",
              "      <td>0</td>\n",
              "    </tr>\n",
              "    <tr>\n",
              "      <th>3</th>\n",
              "      <td>33</td>\n",
              "      <td>0</td>\n",
              "      <td>Travel_Frequently</td>\n",
              "      <td>1392</td>\n",
              "      <td>Research &amp; Development</td>\n",
              "      <td>3</td>\n",
              "      <td>4</td>\n",
              "      <td>1</td>\n",
              "      <td>1</td>\n",
              "      <td>5</td>\n",
              "      <td>4</td>\n",
              "      <td>Female</td>\n",
              "      <td>56</td>\n",
              "      <td>3</td>\n",
              "      <td>1</td>\n",
              "      <td>Research Scientist</td>\n",
              "      <td>3</td>\n",
              "      <td>Married</td>\n",
              "      <td>2909</td>\n",
              "      <td>23159</td>\n",
              "      <td>1</td>\n",
              "      <td>Y</td>\n",
              "      <td>Yes</td>\n",
              "      <td>11</td>\n",
              "      <td>3</td>\n",
              "      <td>3</td>\n",
              "      <td>80</td>\n",
              "      <td>0</td>\n",
              "      <td>8</td>\n",
              "      <td>3</td>\n",
              "      <td>3</td>\n",
              "      <td>8</td>\n",
              "      <td>7</td>\n",
              "      <td>3</td>\n",
              "      <td>0</td>\n",
              "    </tr>\n",
              "    <tr>\n",
              "      <th>4</th>\n",
              "      <td>27</td>\n",
              "      <td>0</td>\n",
              "      <td>Travel_Rarely</td>\n",
              "      <td>591</td>\n",
              "      <td>Research &amp; Development</td>\n",
              "      <td>2</td>\n",
              "      <td>1</td>\n",
              "      <td>2</td>\n",
              "      <td>1</td>\n",
              "      <td>7</td>\n",
              "      <td>1</td>\n",
              "      <td>Male</td>\n",
              "      <td>40</td>\n",
              "      <td>3</td>\n",
              "      <td>1</td>\n",
              "      <td>Laboratory Technician</td>\n",
              "      <td>2</td>\n",
              "      <td>Married</td>\n",
              "      <td>3468</td>\n",
              "      <td>16632</td>\n",
              "      <td>9</td>\n",
              "      <td>Y</td>\n",
              "      <td>No</td>\n",
              "      <td>12</td>\n",
              "      <td>3</td>\n",
              "      <td>4</td>\n",
              "      <td>80</td>\n",
              "      <td>1</td>\n",
              "      <td>6</td>\n",
              "      <td>3</td>\n",
              "      <td>3</td>\n",
              "      <td>2</td>\n",
              "      <td>2</td>\n",
              "      <td>2</td>\n",
              "      <td>2</td>\n",
              "    </tr>\n",
              "  </tbody>\n",
              "</table>\n",
              "</div>"
            ],
            "text/plain": [
              "   Age  Attrition  ... YearsSinceLastPromotion  YearsWithCurrManager\n",
              "0   41          1  ...                       0                     5\n",
              "1   49          0  ...                       1                     7\n",
              "2   37          1  ...                       0                     0\n",
              "3   33          0  ...                       3                     0\n",
              "4   27          0  ...                       2                     2\n",
              "\n",
              "[5 rows x 35 columns]"
            ]
          },
          "metadata": {
            "tags": []
          },
          "execution_count": 61
        }
      ]
    },
    {
      "cell_type": "code",
      "metadata": {
        "colab": {
          "base_uri": "https://localhost:8080/"
        },
        "id": "yQ8Hx_77azWv",
        "outputId": "35619faa-f298-4f49-8070-1e2f4b6b5462"
      },
      "source": [
        "ibm_df['Department'].value_counts()"
      ],
      "execution_count": 62,
      "outputs": [
        {
          "output_type": "execute_result",
          "data": {
            "text/plain": [
              "Research & Development    961\n",
              "Sales                     446\n",
              "Human Resources            63\n",
              "Name: Department, dtype: int64"
            ]
          },
          "metadata": {
            "tags": []
          },
          "execution_count": 62
        }
      ]
    },
    {
      "cell_type": "code",
      "metadata": {
        "id": "T6eVH3XdazWw"
      },
      "source": [
        "ibm_df['Department'].replace('Research & Development',1, inplace=True)\n",
        "ibm_df['Department'].replace('Sales',2, inplace=True)\n",
        "ibm_df['Department'].replace('Human Resources', 3, inplace=True)"
      ],
      "execution_count": 63,
      "outputs": []
    },
    {
      "cell_type": "code",
      "metadata": {
        "colab": {
          "base_uri": "https://localhost:8080/"
        },
        "id": "aPqLZsfVazWx",
        "outputId": "7ea67f51-b3ac-43cc-a027-941d5bd2cc00"
      },
      "source": [
        "ibm_df['Department'].value_counts()"
      ],
      "execution_count": 64,
      "outputs": [
        {
          "output_type": "execute_result",
          "data": {
            "text/plain": [
              "1    961\n",
              "2    446\n",
              "3     63\n",
              "Name: Department, dtype: int64"
            ]
          },
          "metadata": {
            "tags": []
          },
          "execution_count": 64
        }
      ]
    },
    {
      "cell_type": "code",
      "metadata": {
        "colab": {
          "base_uri": "https://localhost:8080/"
        },
        "id": "YUiRLNnzazWy",
        "outputId": "9b742577-e4fd-42ab-980c-576f4287efab"
      },
      "source": [
        "ibm_df['MaritalStatus'].value_counts()"
      ],
      "execution_count": 65,
      "outputs": [
        {
          "output_type": "execute_result",
          "data": {
            "text/plain": [
              "Married     673\n",
              "Single      470\n",
              "Divorced    327\n",
              "Name: MaritalStatus, dtype: int64"
            ]
          },
          "metadata": {
            "tags": []
          },
          "execution_count": 65
        }
      ]
    },
    {
      "cell_type": "code",
      "metadata": {
        "id": "rA_VfgN3azW0"
      },
      "source": [
        "ibm_df['MaritalStatus'].replace('Married',1, inplace=True)\n",
        "ibm_df['MaritalStatus'].replace('Single',2, inplace=True)\n",
        "ibm_df['MaritalStatus'].replace('Divorced',3, inplace=True)"
      ],
      "execution_count": 66,
      "outputs": []
    },
    {
      "cell_type": "code",
      "metadata": {
        "colab": {
          "base_uri": "https://localhost:8080/"
        },
        "id": "OTXR4xFzazW1",
        "outputId": "b84f0798-4850-4910-c13c-f79e8995fd62"
      },
      "source": [
        "ibm_df['MaritalStatus'].value_counts()"
      ],
      "execution_count": 67,
      "outputs": [
        {
          "output_type": "execute_result",
          "data": {
            "text/plain": [
              "1    673\n",
              "2    470\n",
              "3    327\n",
              "Name: MaritalStatus, dtype: int64"
            ]
          },
          "metadata": {
            "tags": []
          },
          "execution_count": 67
        }
      ]
    },
    {
      "cell_type": "code",
      "metadata": {
        "colab": {
          "base_uri": "https://localhost:8080/"
        },
        "id": "dHMTfQ6lazW3",
        "outputId": "37d98287-b925-4117-bb66-26b4f1609ec9"
      },
      "source": [
        "x=ibm_df.select_dtypes(include=['int64'])\n",
        "x.dtypes"
      ],
      "execution_count": 68,
      "outputs": [
        {
          "output_type": "execute_result",
          "data": {
            "text/plain": [
              "Age                         int64\n",
              "Attrition                   int64\n",
              "DailyRate                   int64\n",
              "Department                  int64\n",
              "DistanceFromHome            int64\n",
              "Education                   int64\n",
              "EducationField              int64\n",
              "EmployeeCount               int64\n",
              "EmployeeNumber              int64\n",
              "EnvironmentSatisfaction     int64\n",
              "HourlyRate                  int64\n",
              "JobInvolvement              int64\n",
              "JobLevel                    int64\n",
              "JobSatisfaction             int64\n",
              "MaritalStatus               int64\n",
              "MonthlyIncome               int64\n",
              "MonthlyRate                 int64\n",
              "NumCompaniesWorked          int64\n",
              "PercentSalaryHike           int64\n",
              "PerformanceRating           int64\n",
              "RelationshipSatisfaction    int64\n",
              "StandardHours               int64\n",
              "StockOptionLevel            int64\n",
              "TotalWorkingYears           int64\n",
              "TrainingTimesLastYear       int64\n",
              "WorkLifeBalance             int64\n",
              "YearsAtCompany              int64\n",
              "YearsInCurrentRole          int64\n",
              "YearsSinceLastPromotion     int64\n",
              "YearsWithCurrManager        int64\n",
              "dtype: object"
            ]
          },
          "metadata": {
            "tags": []
          },
          "execution_count": 68
        }
      ]
    },
    {
      "cell_type": "code",
      "metadata": {
        "colab": {
          "base_uri": "https://localhost:8080/"
        },
        "id": "tJK7ZVgQazW4",
        "outputId": "edd3deca-132d-46a2-f151-ce4cbdeabb9d"
      },
      "source": [
        "x.columns"
      ],
      "execution_count": 69,
      "outputs": [
        {
          "output_type": "execute_result",
          "data": {
            "text/plain": [
              "Index(['Age', 'Attrition', 'DailyRate', 'Department', 'DistanceFromHome',\n",
              "       'Education', 'EducationField', 'EmployeeCount', 'EmployeeNumber',\n",
              "       'EnvironmentSatisfaction', 'HourlyRate', 'JobInvolvement', 'JobLevel',\n",
              "       'JobSatisfaction', 'MaritalStatus', 'MonthlyIncome', 'MonthlyRate',\n",
              "       'NumCompaniesWorked', 'PercentSalaryHike', 'PerformanceRating',\n",
              "       'RelationshipSatisfaction', 'StandardHours', 'StockOptionLevel',\n",
              "       'TotalWorkingYears', 'TrainingTimesLastYear', 'WorkLifeBalance',\n",
              "       'YearsAtCompany', 'YearsInCurrentRole', 'YearsSinceLastPromotion',\n",
              "       'YearsWithCurrManager'],\n",
              "      dtype='object')"
            ]
          },
          "metadata": {
            "tags": []
          },
          "execution_count": 69
        }
      ]
    },
    {
      "cell_type": "code",
      "metadata": {
        "id": "4vECFRtFazW5"
      },
      "source": [
        "y=ibm_df['Attrition']"
      ],
      "execution_count": 70,
      "outputs": []
    },
    {
      "cell_type": "code",
      "metadata": {
        "colab": {
          "base_uri": "https://localhost:8080/"
        },
        "id": "sZTSi_b2azW5",
        "outputId": "aaa5ba3a-29cf-49df-e053-7b332ae24fa8"
      },
      "source": [
        "y.head()"
      ],
      "execution_count": 71,
      "outputs": [
        {
          "output_type": "execute_result",
          "data": {
            "text/plain": [
              "0    1\n",
              "1    0\n",
              "2    1\n",
              "3    0\n",
              "4    0\n",
              "Name: Attrition, dtype: int64"
            ]
          },
          "metadata": {
            "tags": []
          },
          "execution_count": 71
        }
      ]
    },
    {
      "cell_type": "code",
      "metadata": {
        "colab": {
          "base_uri": "https://localhost:8080/"
        },
        "id": "HC2yZuTjazW6",
        "outputId": "49fcedc2-da7a-4d39-eefb-891ecafcaa82"
      },
      "source": [
        "y, x = dmatrices('Attrition ~ Age + Department + \\\n",
        "                  DistanceFromHome + Education + EducationField + YearsAtCompany',\n",
        "                  ibm_df, return_type=\"dataframe\")\n",
        "print (x.columns)"
      ],
      "execution_count": 72,
      "outputs": [
        {
          "output_type": "stream",
          "text": [
            "Index(['Intercept', 'Age', 'Department', 'DistanceFromHome', 'Education',\n",
            "       'EducationField', 'YearsAtCompany'],\n",
            "      dtype='object')\n"
          ],
          "name": "stdout"
        }
      ]
    },
    {
      "cell_type": "code",
      "metadata": {
        "id": "2-gadQN8azW7"
      },
      "source": [
        "y = np.ravel(y)"
      ],
      "execution_count": 73,
      "outputs": []
    },
    {
      "cell_type": "code",
      "metadata": {
        "colab": {
          "base_uri": "https://localhost:8080/"
        },
        "id": "ANDPbq8wazW8",
        "outputId": "2368ccc8-6d27-409d-dd56-f954ed1624fb"
      },
      "source": [
        "from sklearn.linear_model import LogisticRegression\n",
        "\n",
        "model = LogisticRegression()\n",
        "model = model.fit(x, y)\n",
        "\n",
        "# check the accuracy on the training set\n",
        "model.score(x, y)"
      ],
      "execution_count": 74,
      "outputs": [
        {
          "output_type": "execute_result",
          "data": {
            "text/plain": [
              "0.8408163265306122"
            ]
          },
          "metadata": {
            "tags": []
          },
          "execution_count": 74
        }
      ]
    },
    {
      "cell_type": "code",
      "metadata": {
        "colab": {
          "base_uri": "https://localhost:8080/"
        },
        "id": "6ryLVc1bazW9",
        "outputId": "8c085e06-4894-42ff-ee99-9ea3f49ad342"
      },
      "source": [
        "y.mean()"
      ],
      "execution_count": 75,
      "outputs": [
        {
          "output_type": "execute_result",
          "data": {
            "text/plain": [
              "0.16122448979591836"
            ]
          },
          "metadata": {
            "tags": []
          },
          "execution_count": 75
        }
      ]
    },
    {
      "cell_type": "code",
      "metadata": {
        "colab": {
          "base_uri": "https://localhost:8080/"
        },
        "id": "VOCqQf9tazW9",
        "outputId": "bb8abf28-c791-4ecc-f5fa-fba7a0650b3b"
      },
      "source": [
        "X_train,X_test,y_train,y_test=sklearn.model_selection.train_test_split(x,y, test_size=0.3, random_state=0)\n",
        "model2=LogisticRegression()\n",
        "model2.fit(X_train, y_train)"
      ],
      "execution_count": 76,
      "outputs": [
        {
          "output_type": "execute_result",
          "data": {
            "text/plain": [
              "LogisticRegression(C=1.0, class_weight=None, dual=False, fit_intercept=True,\n",
              "                   intercept_scaling=1, l1_ratio=None, max_iter=100,\n",
              "                   multi_class='auto', n_jobs=None, penalty='l2',\n",
              "                   random_state=None, solver='lbfgs', tol=0.0001, verbose=0,\n",
              "                   warm_start=False)"
            ]
          },
          "metadata": {
            "tags": []
          },
          "execution_count": 76
        }
      ]
    },
    {
      "cell_type": "code",
      "metadata": {
        "colab": {
          "base_uri": "https://localhost:8080/"
        },
        "id": "2VGZb-iOazW-",
        "outputId": "bfa91552-c191-4a9b-97b1-1271985e0b40"
      },
      "source": [
        "predicted= model2.predict(X_test)\n",
        "print (predicted)"
      ],
      "execution_count": 77,
      "outputs": [
        {
          "output_type": "stream",
          "text": [
            "[0. 0. 0. 0. 0. 0. 0. 0. 0. 0. 0. 0. 0. 0. 0. 0. 0. 0. 0. 0. 0. 0. 0. 0.\n",
            " 0. 0. 0. 0. 0. 0. 0. 0. 0. 0. 0. 0. 0. 0. 0. 0. 0. 0. 0. 0. 0. 0. 0. 0.\n",
            " 0. 0. 0. 0. 0. 0. 0. 0. 0. 0. 0. 0. 0. 0. 0. 0. 0. 0. 0. 0. 0. 0. 0. 0.\n",
            " 0. 0. 0. 0. 0. 0. 0. 0. 0. 0. 0. 0. 0. 0. 0. 0. 0. 0. 0. 0. 0. 0. 0. 0.\n",
            " 0. 0. 0. 0. 0. 0. 0. 0. 0. 0. 0. 0. 0. 0. 0. 0. 0. 0. 0. 0. 0. 0. 0. 0.\n",
            " 0. 0. 0. 0. 0. 0. 0. 0. 0. 0. 0. 0. 0. 0. 0. 0. 0. 0. 0. 0. 0. 0. 0. 0.\n",
            " 0. 0. 0. 0. 0. 0. 0. 0. 0. 0. 0. 0. 0. 0. 0. 0. 0. 0. 0. 0. 0. 0. 0. 0.\n",
            " 0. 0. 0. 0. 0. 0. 0. 0. 0. 0. 0. 0. 0. 0. 0. 0. 0. 0. 0. 0. 0. 0. 0. 0.\n",
            " 0. 0. 0. 0. 0. 0. 0. 0. 0. 0. 0. 0. 0. 0. 0. 0. 0. 0. 0. 0. 0. 0. 0. 0.\n",
            " 0. 0. 0. 0. 0. 0. 0. 0. 0. 0. 0. 0. 0. 0. 0. 0. 0. 0. 0. 0. 0. 0. 0. 0.\n",
            " 0. 0. 0. 0. 0. 0. 0. 0. 0. 0. 0. 0. 0. 0. 0. 0. 0. 0. 0. 0. 0. 0. 0. 0.\n",
            " 0. 0. 0. 0. 0. 0. 0. 0. 0. 0. 0. 0. 0. 0. 0. 0. 0. 0. 0. 0. 0. 0. 0. 0.\n",
            " 0. 0. 0. 0. 0. 0. 0. 0. 0. 0. 0. 0. 0. 0. 0. 0. 0. 0. 0. 0. 0. 0. 0. 0.\n",
            " 0. 0. 0. 0. 0. 0. 0. 0. 1. 0. 0. 0. 0. 0. 0. 0. 0. 0. 0. 0. 0. 0. 0. 0.\n",
            " 0. 0. 0. 0. 0. 0. 0. 0. 0. 0. 0. 0. 0. 0. 0. 0. 0. 0. 0. 0. 0. 0. 0. 0.\n",
            " 0. 0. 0. 0. 0. 0. 0. 0. 0. 0. 0. 0. 0. 0. 0. 0. 0. 0. 0. 0. 0. 0. 0. 0.\n",
            " 0. 0. 0. 0. 0. 0. 0. 0. 0. 0. 0. 0. 0. 0. 0. 0. 0. 0. 0. 0. 0. 0. 0. 0.\n",
            " 0. 0. 0. 0. 0. 0. 0. 0. 0. 0. 0. 0. 0. 0. 0. 0. 0. 0. 0. 0. 0. 0. 0. 0.\n",
            " 0. 0. 0. 0. 0. 0. 0. 0. 0.]\n"
          ],
          "name": "stdout"
        }
      ]
    },
    {
      "cell_type": "code",
      "metadata": {
        "colab": {
          "base_uri": "https://localhost:8080/"
        },
        "id": "dYebW9BpazW_",
        "outputId": "aac8f604-154c-4b0d-f71f-eff1920a7234"
      },
      "source": [
        "probs = model2.predict_proba(X_test)\n",
        "print (probs)"
      ],
      "execution_count": 78,
      "outputs": [
        {
          "output_type": "stream",
          "text": [
            "[[0.86179625 0.13820375]\n",
            " [0.80754593 0.19245407]\n",
            " [0.74123939 0.25876061]\n",
            " [0.83441335 0.16558665]\n",
            " [0.73499938 0.26500062]\n",
            " [0.79097744 0.20902256]\n",
            " [0.85615198 0.14384802]\n",
            " [0.85699671 0.14300329]\n",
            " [0.96699056 0.03300944]\n",
            " [0.93685207 0.06314793]\n",
            " [0.95099274 0.04900726]\n",
            " [0.83101547 0.16898453]\n",
            " [0.86296555 0.13703445]\n",
            " [0.86581193 0.13418807]\n",
            " [0.88750601 0.11249399]\n",
            " [0.88892617 0.11107383]\n",
            " [0.88569724 0.11430276]\n",
            " [0.78516585 0.21483415]\n",
            " [0.7979449  0.2020551 ]\n",
            " [0.88511301 0.11488699]\n",
            " [0.70651596 0.29348404]\n",
            " [0.94676691 0.05323309]\n",
            " [0.86736255 0.13263745]\n",
            " [0.84276454 0.15723546]\n",
            " [0.60336851 0.39663149]\n",
            " [0.811292   0.188708  ]\n",
            " [0.91813729 0.08186271]\n",
            " [0.93285521 0.06714479]\n",
            " [0.68230761 0.31769239]\n",
            " [0.87027136 0.12972864]\n",
            " [0.87266384 0.12733616]\n",
            " [0.7696874  0.2303126 ]\n",
            " [0.86435769 0.13564231]\n",
            " [0.95758879 0.04241121]\n",
            " [0.84461485 0.15538515]\n",
            " [0.8671935  0.1328065 ]\n",
            " [0.90465979 0.09534021]\n",
            " [0.68936427 0.31063573]\n",
            " [0.90703616 0.09296384]\n",
            " [0.80663477 0.19336523]\n",
            " [0.91515724 0.08484276]\n",
            " [0.82351275 0.17648725]\n",
            " [0.93711514 0.06288486]\n",
            " [0.93411324 0.06588676]\n",
            " [0.89447653 0.10552347]\n",
            " [0.85317747 0.14682253]\n",
            " [0.78922388 0.21077612]\n",
            " [0.84879887 0.15120113]\n",
            " [0.66402457 0.33597543]\n",
            " [0.76252297 0.23747703]\n",
            " [0.92851109 0.07148891]\n",
            " [0.78953697 0.21046303]\n",
            " [0.86166595 0.13833405]\n",
            " [0.85837887 0.14162113]\n",
            " [0.87217673 0.12782327]\n",
            " [0.78950898 0.21049102]\n",
            " [0.87690792 0.12309208]\n",
            " [0.84165447 0.15834553]\n",
            " [0.72847153 0.27152847]\n",
            " [0.83181407 0.16818593]\n",
            " [0.90095035 0.09904965]\n",
            " [0.71077332 0.28922668]\n",
            " [0.92823021 0.07176979]\n",
            " [0.84375681 0.15624319]\n",
            " [0.79544108 0.20455892]\n",
            " [0.86826158 0.13173842]\n",
            " [0.91679451 0.08320549]\n",
            " [0.84763056 0.15236944]\n",
            " [0.89253707 0.10746293]\n",
            " [0.62872122 0.37127878]\n",
            " [0.9387539  0.0612461 ]\n",
            " [0.72620335 0.27379665]\n",
            " [0.85652974 0.14347026]\n",
            " [0.84226022 0.15773978]\n",
            " [0.77436391 0.22563609]\n",
            " [0.71899557 0.28100443]\n",
            " [0.93587386 0.06412614]\n",
            " [0.95710069 0.04289931]\n",
            " [0.79185841 0.20814159]\n",
            " [0.89370438 0.10629562]\n",
            " [0.91382038 0.08617962]\n",
            " [0.7935459  0.2064541 ]\n",
            " [0.77934023 0.22065977]\n",
            " [0.79638992 0.20361008]\n",
            " [0.83800496 0.16199504]\n",
            " [0.71395671 0.28604329]\n",
            " [0.97772715 0.02227285]\n",
            " [0.94645972 0.05354028]\n",
            " [0.88617624 0.11382376]\n",
            " [0.79620164 0.20379836]\n",
            " [0.61863836 0.38136164]\n",
            " [0.81866469 0.18133531]\n",
            " [0.74504132 0.25495868]\n",
            " [0.86779495 0.13220505]\n",
            " [0.87071139 0.12928861]\n",
            " [0.81717471 0.18282529]\n",
            " [0.71840764 0.28159236]\n",
            " [0.59825899 0.40174101]\n",
            " [0.83951549 0.16048451]\n",
            " [0.88351325 0.11648675]\n",
            " [0.74352581 0.25647419]\n",
            " [0.76631615 0.23368385]\n",
            " [0.98033036 0.01966964]\n",
            " [0.91857466 0.08142534]\n",
            " [0.77432841 0.22567159]\n",
            " [0.92514814 0.07485186]\n",
            " [0.88123383 0.11876617]\n",
            " [0.74587179 0.25412821]\n",
            " [0.90478361 0.09521639]\n",
            " [0.78685526 0.21314474]\n",
            " [0.8114777  0.1885223 ]\n",
            " [0.93472171 0.06527829]\n",
            " [0.93836501 0.06163499]\n",
            " [0.79411745 0.20588255]\n",
            " [0.81372902 0.18627098]\n",
            " [0.91610918 0.08389082]\n",
            " [0.90428343 0.09571657]\n",
            " [0.84669423 0.15330577]\n",
            " [0.95384551 0.04615449]\n",
            " [0.91283691 0.08716309]\n",
            " [0.85919602 0.14080398]\n",
            " [0.85902499 0.14097501]\n",
            " [0.87519518 0.12480482]\n",
            " [0.7611467  0.2388533 ]\n",
            " [0.92217685 0.07782315]\n",
            " [0.96859409 0.03140591]\n",
            " [0.94398218 0.05601782]\n",
            " [0.81780292 0.18219708]\n",
            " [0.88058703 0.11941297]\n",
            " [0.77894283 0.22105717]\n",
            " [0.97124464 0.02875536]\n",
            " [0.88807661 0.11192339]\n",
            " [0.78715261 0.21284739]\n",
            " [0.82001482 0.17998518]\n",
            " [0.94934542 0.05065458]\n",
            " [0.95888932 0.04111068]\n",
            " [0.73559224 0.26440776]\n",
            " [0.93416995 0.06583005]\n",
            " [0.73750637 0.26249363]\n",
            " [0.8213675  0.1786325 ]\n",
            " [0.821712   0.178288  ]\n",
            " [0.89896703 0.10103297]\n",
            " [0.78745762 0.21254238]\n",
            " [0.89825348 0.10174652]\n",
            " [0.91433817 0.08566183]\n",
            " [0.92724744 0.07275256]\n",
            " [0.96594965 0.03405035]\n",
            " [0.94417364 0.05582636]\n",
            " [0.93073081 0.06926919]\n",
            " [0.66320586 0.33679414]\n",
            " [0.84168651 0.15831349]\n",
            " [0.82636817 0.17363183]\n",
            " [0.80616639 0.19383361]\n",
            " [0.96157632 0.03842368]\n",
            " [0.93515159 0.06484841]\n",
            " [0.94778623 0.05221377]\n",
            " [0.97337825 0.02662175]\n",
            " [0.79297057 0.20702943]\n",
            " [0.87770194 0.12229806]\n",
            " [0.86103662 0.13896338]\n",
            " [0.95185478 0.04814522]\n",
            " [0.93131494 0.06868506]\n",
            " [0.75685359 0.24314641]\n",
            " [0.74997802 0.25002198]\n",
            " [0.95527865 0.04472135]\n",
            " [0.8695072  0.1304928 ]\n",
            " [0.81376769 0.18623231]\n",
            " [0.76990617 0.23009383]\n",
            " [0.80077911 0.19922089]\n",
            " [0.9280112  0.0719888 ]\n",
            " [0.90949245 0.09050755]\n",
            " [0.94557625 0.05442375]\n",
            " [0.93330465 0.06669535]\n",
            " [0.69145909 0.30854091]\n",
            " [0.93056881 0.06943119]\n",
            " [0.74525426 0.25474574]\n",
            " [0.78594343 0.21405657]\n",
            " [0.933086   0.066914  ]\n",
            " [0.8087829  0.1912171 ]\n",
            " [0.85096457 0.14903543]\n",
            " [0.66956281 0.33043719]\n",
            " [0.90338379 0.09661621]\n",
            " [0.91158931 0.08841069]\n",
            " [0.87300498 0.12699502]\n",
            " [0.92939054 0.07060946]\n",
            " [0.66661726 0.33338274]\n",
            " [0.89098513 0.10901487]\n",
            " [0.86216707 0.13783293]\n",
            " [0.78838554 0.21161446]\n",
            " [0.53099617 0.46900383]\n",
            " [0.73344328 0.26655672]\n",
            " [0.71053983 0.28946017]\n",
            " [0.85530492 0.14469508]\n",
            " [0.86960596 0.13039404]\n",
            " [0.75470006 0.24529994]\n",
            " [0.89823512 0.10176488]\n",
            " [0.79247841 0.20752159]\n",
            " [0.90643139 0.09356861]\n",
            " [0.77650778 0.22349222]\n",
            " [0.88387788 0.11612212]\n",
            " [0.8540431  0.1459569 ]\n",
            " [0.81899362 0.18100638]\n",
            " [0.74448519 0.25551481]\n",
            " [0.86259434 0.13740566]\n",
            " [0.77822625 0.22177375]\n",
            " [0.76928325 0.23071675]\n",
            " [0.79679228 0.20320772]\n",
            " [0.92096591 0.07903409]\n",
            " [0.74573771 0.25426229]\n",
            " [0.87499226 0.12500774]\n",
            " [0.85503288 0.14496712]\n",
            " [0.77292156 0.22707844]\n",
            " [0.87227273 0.12772727]\n",
            " [0.67395357 0.32604643]\n",
            " [0.93621663 0.06378337]\n",
            " [0.82479478 0.17520522]\n",
            " [0.95146046 0.04853954]\n",
            " [0.83462451 0.16537549]\n",
            " [0.81106478 0.18893522]\n",
            " [0.80828258 0.19171742]\n",
            " [0.87664152 0.12335848]\n",
            " [0.66786996 0.33213004]\n",
            " [0.59616853 0.40383147]\n",
            " [0.98979364 0.01020636]\n",
            " [0.706344   0.293656  ]\n",
            " [0.91633089 0.08366911]\n",
            " [0.92133474 0.07866526]\n",
            " [0.71383909 0.28616091]\n",
            " [0.62453949 0.37546051]\n",
            " [0.76440578 0.23559422]\n",
            " [0.95401652 0.04598348]\n",
            " [0.88186723 0.11813277]\n",
            " [0.86019899 0.13980101]\n",
            " [0.92117379 0.07882621]\n",
            " [0.88019167 0.11980833]\n",
            " [0.8045143  0.1954857 ]\n",
            " [0.80585183 0.19414817]\n",
            " [0.91345491 0.08654509]\n",
            " [0.72101811 0.27898189]\n",
            " [0.94508002 0.05491998]\n",
            " [0.90906906 0.09093094]\n",
            " [0.73381751 0.26618249]\n",
            " [0.98109184 0.01890816]\n",
            " [0.85490449 0.14509551]\n",
            " [0.89817069 0.10182931]\n",
            " [0.82436993 0.17563007]\n",
            " [0.83387097 0.16612903]\n",
            " [0.88136645 0.11863355]\n",
            " [0.88031307 0.11968693]\n",
            " [0.87560622 0.12439378]\n",
            " [0.816172   0.183828  ]\n",
            " [0.88028846 0.11971154]\n",
            " [0.61530839 0.38469161]\n",
            " [0.88826156 0.11173844]\n",
            " [0.89692812 0.10307188]\n",
            " [0.85328926 0.14671074]\n",
            " [0.98297041 0.01702959]\n",
            " [0.77341241 0.22658759]\n",
            " [0.62184884 0.37815116]\n",
            " [0.82739135 0.17260865]\n",
            " [0.84083339 0.15916661]\n",
            " [0.84808607 0.15191393]\n",
            " [0.84937028 0.15062972]\n",
            " [0.75540991 0.24459009]\n",
            " [0.86188858 0.13811142]\n",
            " [0.90684688 0.09315312]\n",
            " [0.84663273 0.15336727]\n",
            " [0.81290905 0.18709095]\n",
            " [0.7405358  0.2594642 ]\n",
            " [0.87035276 0.12964724]\n",
            " [0.83938093 0.16061907]\n",
            " [0.86267949 0.13732051]\n",
            " [0.66362901 0.33637099]\n",
            " [0.90671715 0.09328285]\n",
            " [0.87056296 0.12943704]\n",
            " [0.9258079  0.0741921 ]\n",
            " [0.84386854 0.15613146]\n",
            " [0.89878141 0.10121859]\n",
            " [0.91239494 0.08760506]\n",
            " [0.79867634 0.20132366]\n",
            " [0.64052599 0.35947401]\n",
            " [0.84683943 0.15316057]\n",
            " [0.75503197 0.24496803]\n",
            " [0.85264544 0.14735456]\n",
            " [0.99251432 0.00748568]\n",
            " [0.86138215 0.13861785]\n",
            " [0.8814014  0.1185986 ]\n",
            " [0.82757086 0.17242914]\n",
            " [0.93027074 0.06972926]\n",
            " [0.87307443 0.12692557]\n",
            " [0.88802396 0.11197604]\n",
            " [0.8375332  0.1624668 ]\n",
            " [0.86481031 0.13518969]\n",
            " [0.86515549 0.13484451]\n",
            " [0.8975479  0.1024521 ]\n",
            " [0.78409081 0.21590919]\n",
            " [0.79165113 0.20834887]\n",
            " [0.88388123 0.11611877]\n",
            " [0.65418957 0.34581043]\n",
            " [0.94059378 0.05940622]\n",
            " [0.89913435 0.10086565]\n",
            " [0.72525616 0.27474384]\n",
            " [0.69085518 0.30914482]\n",
            " [0.8759163  0.1240837 ]\n",
            " [0.86562246 0.13437754]\n",
            " [0.97508876 0.02491124]\n",
            " [0.86265127 0.13734873]\n",
            " [0.54036075 0.45963925]\n",
            " [0.91302274 0.08697726]\n",
            " [0.74609588 0.25390412]\n",
            " [0.86758147 0.13241853]\n",
            " [0.88852756 0.11147244]\n",
            " [0.87911718 0.12088282]\n",
            " [0.85664964 0.14335036]\n",
            " [0.77281961 0.22718039]\n",
            " [0.80713981 0.19286019]\n",
            " [0.85285506 0.14714494]\n",
            " [0.77595544 0.22404456]\n",
            " [0.70409841 0.29590159]\n",
            " [0.88971656 0.11028344]\n",
            " [0.48963093 0.51036907]\n",
            " [0.92370649 0.07629351]\n",
            " [0.75572313 0.24427687]\n",
            " [0.67788863 0.32211137]\n",
            " [0.91301004 0.08698996]\n",
            " [0.94029213 0.05970787]\n",
            " [0.88009787 0.11990213]\n",
            " [0.88591167 0.11408833]\n",
            " [0.95656826 0.04343174]\n",
            " [0.89909423 0.10090577]\n",
            " [0.94784647 0.05215353]\n",
            " [0.83255775 0.16744225]\n",
            " [0.87822139 0.12177861]\n",
            " [0.819458   0.180542  ]\n",
            " [0.81668786 0.18331214]\n",
            " [0.95036169 0.04963831]\n",
            " [0.86940138 0.13059862]\n",
            " [0.90541598 0.09458402]\n",
            " [0.83661188 0.16338812]\n",
            " [0.8458365  0.1541635 ]\n",
            " [0.79307978 0.20692022]\n",
            " [0.81808124 0.18191876]\n",
            " [0.81598411 0.18401589]\n",
            " [0.83677557 0.16322443]\n",
            " [0.91443033 0.08556967]\n",
            " [0.91533087 0.08466913]\n",
            " [0.68503447 0.31496553]\n",
            " [0.99073758 0.00926242]\n",
            " [0.76795009 0.23204991]\n",
            " [0.79871927 0.20128073]\n",
            " [0.7317683  0.2682317 ]\n",
            " [0.67465194 0.32534806]\n",
            " [0.7971246  0.2028754 ]\n",
            " [0.84935619 0.15064381]\n",
            " [0.86467084 0.13532916]\n",
            " [0.85844151 0.14155849]\n",
            " [0.84533263 0.15466737]\n",
            " [0.83038801 0.16961199]\n",
            " [0.92192752 0.07807248]\n",
            " [0.83189721 0.16810279]\n",
            " [0.97707551 0.02292449]\n",
            " [0.90418232 0.09581768]\n",
            " [0.92691201 0.07308799]\n",
            " [0.84797357 0.15202643]\n",
            " [0.76712573 0.23287427]\n",
            " [0.94895156 0.05104844]\n",
            " [0.94782087 0.05217913]\n",
            " [0.75181508 0.24818492]\n",
            " [0.8788047  0.1211953 ]\n",
            " [0.80770784 0.19229216]\n",
            " [0.93864301 0.06135699]\n",
            " [0.86008492 0.13991508]\n",
            " [0.76056702 0.23943298]\n",
            " [0.90892473 0.09107527]\n",
            " [0.75402141 0.24597859]\n",
            " [0.94271842 0.05728158]\n",
            " [0.9182732  0.0817268 ]\n",
            " [0.90545128 0.09454872]\n",
            " [0.76879459 0.23120541]\n",
            " [0.92358137 0.07641863]\n",
            " [0.8070588  0.1929412 ]\n",
            " [0.90079528 0.09920472]\n",
            " [0.87933329 0.12066671]\n",
            " [0.80585694 0.19414306]\n",
            " [0.83150059 0.16849941]\n",
            " [0.53816776 0.46183224]\n",
            " [0.95031824 0.04968176]\n",
            " [0.73291906 0.26708094]\n",
            " [0.89182872 0.10817128]\n",
            " [0.80079856 0.19920144]\n",
            " [0.87739804 0.12260196]\n",
            " [0.9680523  0.0319477 ]\n",
            " [0.81741597 0.18258403]\n",
            " [0.8615009  0.1384991 ]\n",
            " [0.59407558 0.40592442]\n",
            " [0.82625732 0.17374268]\n",
            " [0.92534976 0.07465024]\n",
            " [0.81692204 0.18307796]\n",
            " [0.92586783 0.07413217]\n",
            " [0.890946   0.109054  ]\n",
            " [0.70071759 0.29928241]\n",
            " [0.82181894 0.17818106]\n",
            " [0.9658994  0.0341006 ]\n",
            " [0.86996989 0.13003011]\n",
            " [0.89918549 0.10081451]\n",
            " [0.88983804 0.11016196]\n",
            " [0.81432462 0.18567538]\n",
            " [0.85830037 0.14169963]\n",
            " [0.83878654 0.16121346]\n",
            " [0.84056579 0.15943421]\n",
            " [0.8266117  0.1733883 ]\n",
            " [0.94075167 0.05924833]\n",
            " [0.83183533 0.16816467]\n",
            " [0.77561355 0.22438645]\n",
            " [0.69399543 0.30600457]\n",
            " [0.85962129 0.14037871]\n",
            " [0.82513942 0.17486058]\n",
            " [0.84107715 0.15892285]\n",
            " [0.87191015 0.12808985]\n",
            " [0.89447653 0.10552347]\n",
            " [0.82945349 0.17054651]\n",
            " [0.72856797 0.27143203]\n",
            " [0.94692821 0.05307179]\n",
            " [0.96074299 0.03925701]\n",
            " [0.90500199 0.09499801]\n",
            " [0.88599989 0.11400011]\n",
            " [0.84865642 0.15134358]\n",
            " [0.79086975 0.20913025]\n",
            " [0.6730297  0.3269703 ]\n",
            " [0.93390208 0.06609792]\n",
            " [0.65644884 0.34355116]\n",
            " [0.7438285  0.2561715 ]\n",
            " [0.94248413 0.05751587]\n",
            " [0.78365674 0.21634326]\n",
            " [0.90655666 0.09344334]\n",
            " [0.81578727 0.18421273]\n",
            " [0.89149736 0.10850264]\n",
            " [0.85791873 0.14208127]\n",
            " [0.67453857 0.32546143]\n",
            " [0.93130395 0.06869605]\n",
            " [0.89999984 0.10000016]]\n"
          ],
          "name": "stdout"
        }
      ]
    },
    {
      "cell_type": "code",
      "metadata": {
        "colab": {
          "base_uri": "https://localhost:8080/"
        },
        "id": "AHHVXEcmazXA",
        "outputId": "20959423-59b6-46d1-d49f-ed2e03d8b4f2"
      },
      "source": [
        "from sklearn import metrics\n",
        "\n",
        "print (metrics.accuracy_score(y_test, predicted))\n",
        "print (metrics.roc_auc_score(y_test, probs[:, 1]))"
      ],
      "execution_count": 79,
      "outputs": [
        {
          "output_type": "stream",
          "text": [
            "0.8435374149659864\n",
            "0.6502502887947632\n"
          ],
          "name": "stdout"
        }
      ]
    },
    {
      "cell_type": "code",
      "metadata": {
        "colab": {
          "base_uri": "https://localhost:8080/"
        },
        "id": "u9Mh6JJJazXA",
        "outputId": "186c5ee6-3bf6-4b0e-abda-b9a93bbe44d2"
      },
      "source": [
        "print (metrics.confusion_matrix(y_test, predicted))\n",
        "print (metrics.classification_report(y_test, predicted))"
      ],
      "execution_count": 80,
      "outputs": [
        {
          "output_type": "stream",
          "text": [
            "[[371   0]\n",
            " [ 69   1]]\n",
            "              precision    recall  f1-score   support\n",
            "\n",
            "         0.0       0.84      1.00      0.91       371\n",
            "         1.0       1.00      0.01      0.03        70\n",
            "\n",
            "    accuracy                           0.84       441\n",
            "   macro avg       0.92      0.51      0.47       441\n",
            "weighted avg       0.87      0.84      0.77       441\n",
            "\n"
          ],
          "name": "stdout"
        }
      ]
    },
    {
      "cell_type": "code",
      "metadata": {
        "colab": {
          "base_uri": "https://localhost:8080/"
        },
        "id": "6c-9tCc2azXB",
        "outputId": "dfa528e9-8a0d-40f1-8327-c10f900467ff"
      },
      "source": [
        "print (X_train)"
      ],
      "execution_count": 81,
      "outputs": [
        {
          "output_type": "stream",
          "text": [
            "      Intercept   Age  Department  ...  Education  EducationField  YearsAtCompany\n",
            "338         1.0  30.0         2.0  ...        3.0             3.0            10.0\n",
            "363         1.0  33.0         2.0  ...        3.0             3.0             1.0\n",
            "759         1.0  45.0         3.0  ...        4.0             2.0             6.0\n",
            "793         1.0  28.0         1.0  ...        2.0             1.0             4.0\n",
            "581         1.0  30.0         1.0  ...        3.0             1.0             2.0\n",
            "...         ...   ...         ...  ...        ...             ...             ...\n",
            "763         1.0  34.0         2.0  ...        4.0             1.0             1.0\n",
            "835         1.0  35.0         3.0  ...        4.0             5.0             5.0\n",
            "1216        1.0  43.0         2.0  ...        3.0             2.0            10.0\n",
            "559         1.0  38.0         1.0  ...        5.0             2.0             1.0\n",
            "684         1.0  40.0         2.0  ...        4.0             3.0             1.0\n",
            "\n",
            "[1029 rows x 7 columns]\n"
          ],
          "name": "stdout"
        }
      ]
    },
    {
      "cell_type": "code",
      "metadata": {
        "colab": {
          "base_uri": "https://localhost:8080/"
        },
        "id": "u0ujr46qazXC",
        "outputId": "a3758e21-e0f0-4984-990d-9254bf275757"
      },
      "source": [
        "#add random values to KK according to the parameters mentioned above to check the proabily of attrition of the employee\n",
        "kk=[[1.0, 23.0, 1.0, 500.0, 3.0, 24.0, 1.0]]\n",
        "print(model.predict_proba(kk))"
      ],
      "execution_count": 82,
      "outputs": [
        {
          "output_type": "stream",
          "text": [
            "[[6.25571912e-07 9.99999374e-01]]\n"
          ],
          "name": "stdout"
        }
      ]
    }
  ]
}